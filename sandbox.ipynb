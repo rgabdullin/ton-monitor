{
 "cells": [
  {
   "cell_type": "code",
   "execution_count": 6,
   "id": "cfe60f3a",
   "metadata": {},
   "outputs": [],
   "source": [
    "import requests\n",
    "import json"
   ]
  },
  {
   "cell_type": "code",
   "execution_count": 89,
   "id": "436ed224",
   "metadata": {},
   "outputs": [
    {
     "data": {
      "text/plain": [
       "{'ok': True,\n",
       " 'result': {'@type': 'blocks.masterchainInfo',\n",
       "  'last': {'@type': 'ton.blockIdExt',\n",
       "   'workchain': -1,\n",
       "   'shard': '-9223372036854775808',\n",
       "   'seqno': 16041092,\n",
       "   'root_hash': 'GihzIFQOLGWwq/4F2Bt7zFtbtWIHBoKrQkydT4VIZLY=',\n",
       "   'file_hash': 'ptL9Vo9BzVFViIQszbYf5t/6hVm4IzcuGh7MF386OMY='},\n",
       "  'state_root_hash': 'PIFvD7Co/BLJscuG0qQbj6TiIPh1A8NTKbGjSS5jmA8=',\n",
       "  'init': {'@type': 'ton.blockIdExt',\n",
       "   'workchain': -1,\n",
       "   'shard': '0',\n",
       "   'seqno': 0,\n",
       "   'root_hash': 'F6OpKZKqvqeFp6CQmFomXNMfMj2EnaUSOXN+Mh+wVWk=',\n",
       "   'file_hash': 'XplPz01CXAps5qeSWUtxcyBfdAo5zVb1N979KLSKD24='},\n",
       "  '@extra': '1636763316.2004728:0.18063163974079133'}}"
      ]
     },
     "execution_count": 89,
     "metadata": {},
     "output_type": "execute_result"
    }
   ],
   "source": [
    "def get_master_chain_info():\n",
    "    url = 'https://toncenter.com/api/v2/getMasterchainInfo'\n",
    "    resp = requests.get(url)\n",
    "\n",
    "    if resp.status_code != 200:\n",
    "        raise RuntimeError(resp.status_code)\n",
    "    return json.loads(resp.content)\n",
    "\n",
    "get_master_chain_info()"
   ]
  },
  {
   "cell_type": "code",
   "execution_count": 99,
   "id": "16ac77e9",
   "metadata": {},
   "outputs": [
    {
     "data": {
      "text/plain": [
       "{'ok': True,\n",
       " 'result': {'shard': '-9223372036854775808',\n",
       "  'seqno': 16040874,\n",
       "  'root_hash': '6u+Stj/GZugSM4rh+k+7eXWydUcJxW2NkJ+UQ7oNqBU=',\n",
       "  'file_hash': 'gpV8JsSGLY+fFDRWG4SLAoCf9OO8LaLAIGL98gDjTeo=',\n",
       "  'workchain_id': None}}"
      ]
     },
     "execution_count": 99,
     "metadata": {},
     "output_type": "execute_result"
    }
   ],
   "source": [
    "def get_block_information(seqno):\n",
    "    url = 'https://api.ton.sh/getBlockInformation'\n",
    "    params = {'seqno': seqno}\n",
    "    resp = requests.get(url, params=params)\n",
    "\n",
    "    if resp.status_code != 200:\n",
    "        raise RuntimeError(resp.status_code)\n",
    "    return json.loads(resp.content)\n",
    "\n",
    "get_block_information(16040874)"
   ]
  },
  {
   "cell_type": "code",
   "execution_count": 104,
   "id": "893e1b8d",
   "metadata": {},
   "outputs": [
    {
     "data": {
      "text/plain": [
       "{'ok': True,\n",
       " 'result': [{'lt': 22948348000001,\n",
       "   'timestamp': 1636764445,\n",
       "   'hash': '5w4OJAG1QAHMrL6YFRcbXT2TgvXvwVC8Uar5gvYp8Ls=',\n",
       "   'fee': 0,\n",
       "   'storage_fee': 0,\n",
       "   'other_fee': 0,\n",
       "   'received': {'from': 'Ef8SYc83pm5JkGt0p3TQRkuiM58O9Cr3waUtR9OoFq716uj0',\n",
       "    'nanoton': 100000000000,\n",
       "    'message': ''},\n",
       "   'sent': []}],\n",
       " 'previous_transaction': {'lt': 0,\n",
       "  'hash': 'AAAAAAAAAAAAAAAAAAAAAAAAAAAAAAAAAAAAAAAAAAA='}}"
      ]
     },
     "execution_count": 104,
     "metadata": {},
     "output_type": "execute_result"
    }
   ],
   "source": [
    "def get_transactions(address):\n",
    "    url = 'https://api.ton.sh/getTransactions'\n",
    "    params = {'address': address}\n",
    "    resp = requests.get(url, params=params)\n",
    "\n",
    "    if resp.status_code != 200:\n",
    "        raise RuntimeError(resp.status_code)\n",
    "    return json.loads(resp.content)\n",
    "\n",
    "get_transactions('EQCytgW3mPUuigJW8tNuru4uAAncpBEv3-ATWkodnxHRXXKC')"
   ]
  },
  {
   "cell_type": "code",
   "execution_count": 108,
   "id": "208cec97",
   "metadata": {},
   "outputs": [
    {
     "data": {
      "text/plain": [
       "175.343034264519"
      ]
     },
     "execution_count": 108,
     "metadata": {},
     "output_type": "execute_result"
    }
   ],
   "source": [
    "5.2e+08 / 11565900 * 3.9"
   ]
  },
  {
   "cell_type": "code",
   "execution_count": 113,
   "id": "7750593a",
   "metadata": {},
   "outputs": [
    {
     "data": {
      "text/plain": [
       "{'ok': False, 'error': 'Request timeout'}"
      ]
     },
     "execution_count": 113,
     "metadata": {},
     "output_type": "execute_result"
    }
   ],
   "source": [
    "def get_address_information(address):\n",
    "    url = 'https://toncenter.com/api/v2/getExtendedAddressInformation'\n",
    "    params = {'address': address}\n",
    "    resp = requests.get(url, params=params)\n",
    "\n",
    "    if resp.status_code != 200:\n",
    "        raise RuntimeError(resp.status_code)\n",
    "    return json.loads(resp.content)\n",
    "\n",
    "get_address_information('Ef_qw5GhWtBlRHAkrnTVXrXmH4t_zkj2ju9ZgbB-zEwJSnzh')"
   ]
  },
  {
   "cell_type": "code",
   "execution_count": 100,
   "id": "ccdc219c",
   "metadata": {},
   "outputs": [
    {
     "data": {
      "text/plain": [
       "datetime.datetime(2021, 11, 13, 0, 35, 3)"
      ]
     },
     "execution_count": 100,
     "metadata": {},
     "output_type": "execute_result"
    }
   ],
   "source": [
    "from datetime import datetime\n",
    "datetime.fromtimestamp(1636763703)"
   ]
  },
  {
   "cell_type": "markdown",
   "id": "a71013b3",
   "metadata": {},
   "source": []
  },
  {
   "cell_type": "markdown",
   "id": "3288a8ae",
   "metadata": {},
   "source": [
    "# data placeholder"
   ]
  },
  {
   "cell_type": "code",
   "execution_count": 4,
   "id": "93d5ac6a",
   "metadata": {},
   "outputs": [
    {
     "data": {
      "text/plain": [
       "Database(MongoClient(host=['localhost:27017'], document_class=dict, tz_aware=False, connect=True), 'data_example')"
      ]
     },
     "execution_count": 4,
     "metadata": {},
     "output_type": "execute_result"
    }
   ],
   "source": [
    "from pymongo import MongoClient\n",
    "\n",
    "\n",
    "host = 'localhost'\n",
    "port = 27017\n",
    "mongo = MongoClient(host=host,\n",
    "                    port=port)\n",
    "mongo.data_example"
   ]
  },
  {
   "cell_type": "code",
   "execution_count": 11,
   "id": "199e53bd",
   "metadata": {},
   "outputs": [
    {
     "data": {
      "text/plain": [
       "{'basechain': 69.69, 'masterchain': 13.37}"
      ]
     },
     "execution_count": 11,
     "metadata": {},
     "output_type": "execute_result"
    }
   ],
   "source": [
    "import requests\n",
    "\n",
    "\n",
    "requests.get('http://ruslixag.ru:8080/api/getBlockRate').json()"
   ]
  },
  {
   "cell_type": "code",
   "execution_count": 52,
   "id": "b0031f21",
   "metadata": {},
   "outputs": [
    {
     "name": "stdout",
     "output_type": "stream",
     "text": [
      "[1.0, 0.81, 0.61, 0.49, 0.97, 0.6, 0.36, 0.98, 0.09, 0.25, 0.5, 0.9, 0.31, 0.2, 0.73, 0.08, 0.96, 0.67, 0.96, 0.91, 0.46, 0.81, 0.67, 0.63]\n"
     ]
    }
   ],
   "source": [
    "import numpy as np\n",
    "\n",
    "print(list(np.round(np.random.uniform(size=24), 2)))"
   ]
  },
  {
   "cell_type": "code",
   "execution_count": 40,
   "id": "09843525",
   "metadata": {},
   "outputs": [
    {
     "name": "stdout",
     "output_type": "stream",
     "text": [
      "[1633381200, 1633384800, 1633388400, 1633392000, 1633395600, 1633399200, 1633402800, 1633406400, 1633410000, 1633413600, 1633417200, 1633420800, 1633424400, 1633428000, 1633431600, 1633435200, 1633438800, 1633442400, 1633446000, 1633449600, 1633453200, 1633456800, 1633460400, 1633464000]\n"
     ]
    }
   ],
   "source": [
    "from datetime import datetime, timedelta\n",
    "\n",
    "timestamps = [datetime(2021, 10, 5) + timedelta(hours=x) for x in range(24)]\n",
    "x = timestamps[0]\n",
    "timestamps = [int(x.timestamp()) for x in timestamps]\n",
    "print(timestamps)"
   ]
  },
  {
   "cell_type": "code",
   "execution_count": null,
   "id": "ed64c332",
   "metadata": {},
   "outputs": [],
   "source": []
  },
  {
   "cell_type": "code",
   "execution_count": 53,
   "id": "58c85ad8",
   "metadata": {},
   "outputs": [
    {
     "name": "stdout",
     "output_type": "stream",
     "text": [
      "[118.0, 147.0, 157.0, 588.0, 112.0, 18.0, 100.0, 27.0, 42.0, 261.0, 65.0, 256.0, 132.0, 59.0, 104.0, 128.0, 414.0, 395.0, 59.0, 468.0, 54.0, 7.0, 4.0, 386.0]\n"
     ]
    }
   ],
   "source": [
    "print(list(np.round(np.random.exponential(scale=200, size=24))))"
   ]
  },
  {
   "cell_type": "code",
   "execution_count": null,
   "id": "97cb72a4",
   "metadata": {},
   "outputs": [],
   "source": [
    "[\n",
    "    {\n",
    "        'host': 'ton.org',\n",
    "        'timestamps': [1633381200, 1633384800, 1633388400, 1633392000, 1633395600, 1633399200, \n",
    "                       1633402800, 1633406400, 1633410000, 1633413600, 1633417200, 1633420800, \n",
    "                       1633424400, 1633428000, 1633431600, 1633435200, 1633438800, 1633442400, \n",
    "                       1633446000, 1633449600, 1633453200, 1633456800, 1633460400, 1633464000],\n",
    "        'uptimes': [0.74, 0.67, 0.4 , 0.25, 0.19, 0.78, 0.43, 0.94, 0.59, 0.18, 0.39,\n",
    "                    0.79, 0.79, 0.84, 0.66, 0.45, 0.82, 0.64, 0.8 , 0.71, 0.03, 0.08,\n",
    "                    0.16, 0.08],\n",
    "        'response_times': [42.0, 155.0, 120.0, 30.0, 310.0, 100.0, 58.0, 161.0, \n",
    "                           565.0, 276.0, 23.0, 193.0, 195.0, 158.0, 98.0, 218.0, \n",
    "                           85.0, 37.0, 1.0, 138.0, 48.0, 308.0, 25.0, 33.0]\n",
    "    },\n",
    "    {\n",
    "        'host': 'ton.sh',\n",
    "        'timestamps': [1633381200, 1633384800, 1633388400, 1633392000, 1633395600, 1633399200, \n",
    "                       1633402800, 1633406400, 1633410000, 1633413600, 1633417200, 1633420800, \n",
    "                       1633424400, 1633428000, 1633431600, 1633435200, 1633438800, 1633442400, \n",
    "                       1633446000, 1633449600, 1633453200, 1633456800, 1633460400, 1633464000],\n",
    "        'uptimes': [0.16, 0.84, 0.17, 0.08, 0.18, 0.52, 0.59, 0.71, 0.72, 0.31, 0.79, 0.0, \n",
    "                    0.72, 0.63, 0.87, 0.46, 0.51, 0.13, 0.23, 0.24, 0.6, 0.48, 0.32, 0.87],\n",
    "        'response_times': [496.0, 161.0, 7.0, 1203.0, 89.0, 209.0, 323.0, 103.0, \n",
    "                           151.0, 32.0, 342.0, 62.0, 553.0, 416.0, 58.0, 523.0, \n",
    "                           162.0, 96.0, 28.0, 30.0, 466.0, 16.0, 80.0, 512.0]\n",
    "    },\n",
    "    {\n",
    "        'host': 'toncenter.com',\n",
    "        'timestamps': [1633381200, 1633384800, 1633388400, 1633392000, 1633395600, 1633399200, \n",
    "                       1633402800, 1633406400, 1633410000, 1633413600, 1633417200, 1633420800, \n",
    "                       1633424400, 1633428000, 1633431600, 1633435200, 1633438800, 1633442400, \n",
    "                       1633446000, 1633449600, 1633453200, 1633456800, 1633460400, 1633464000],\n",
    "        'uptimes': [1.0, 0.81, 0.61, 0.49, 0.97, 0.6, 0.36, 0.98, 0.09, 0.25, 0.5, 0.9, \n",
    "                    0.31, 0.2, 0.73, 0.08, 0.96, 0.67, 0.96, 0.91, 0.46, 0.81, 0.67, 0.63],\n",
    "        'response_times': [118.0, 147.0, 157.0, 588.0, 112.0, 18.0, 100.0, 27.0, \n",
    "                           42.0, 261.0, 65.0, 256.0, 132.0, 59.0, 104.0, 128.0, \n",
    "                           414.0, 395.0, 59.0, 468.0, 54.0, 7.0, 4.0, 386.0]\n",
    "    }\n",
    "]\n",
    "    "
   ]
  }
 ],
 "metadata": {
  "kernelspec": {
   "display_name": "Python 3 (ipykernel)",
   "language": "python",
   "name": "python3"
  },
  "language_info": {
   "codemirror_mode": {
    "name": "ipython",
    "version": 3
   },
   "file_extension": ".py",
   "mimetype": "text/x-python",
   "name": "python",
   "nbconvert_exporter": "python",
   "pygments_lexer": "ipython3",
   "version": "3.8.9"
  }
 },
 "nbformat": 4,
 "nbformat_minor": 5
}
