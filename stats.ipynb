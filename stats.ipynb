{
 "cells": [
  {
   "cell_type": "code",
   "execution_count": 1,
   "id": "7dce4542",
   "metadata": {},
   "outputs": [],
   "source": [
    "import sys\n",
    "sys.path.insert(0, '/usr/src/mytonctrl')"
   ]
  },
  {
   "cell_type": "code",
   "execution_count": 2,
   "id": "45df1df1",
   "metadata": {},
   "outputs": [],
   "source": [
    "import requests as R\n",
    "import mytonctrl as M\n",
    "\n",
    "\n",
    "from datetime import datetime"
   ]
  },
  {
   "cell_type": "markdown",
   "id": "621ee3ed",
   "metadata": {},
   "source": [
    "# TPS, validators, shards"
   ]
  },
  {
   "cell_type": "code",
   "execution_count": 15,
   "id": "f9764044",
   "metadata": {},
   "outputs": [
    {
     "data": {
      "text/plain": [
       "{'tps': 1.3,\n",
       " 'block_rate': {'masterchain': 3.0, 'basechain': 2.0},\n",
       " 'shardchains': 1,\n",
       " 'validators': {'online': 124, 'total': 139}}"
      ]
     },
     "execution_count": 15,
     "metadata": {},
     "output_type": "execute_result"
    }
   ],
   "source": [
    "ton = M.MyTonCore()\n",
    "\n",
    "\n",
    "data = {}\n",
    "data['tps'] = ton.GetStatistics('tpsAvg')[0]\n",
    "\n",
    "# block rate\n",
    "data['block_rate'] = {\n",
    "    'masterchain': 3.0,\n",
    "    'basechain': 2.0,\n",
    "}\n",
    "\n",
    "data['shardchains'] = ton.GetShardsNumber()\n",
    "\n",
    "# validators\n",
    "validators = ton.GetValidatorsList()\n",
    "validators_total = len(validators)\n",
    "validators_online = len(list(filter(lambda x: x['online'], validators)))\n",
    "data['validators'] = {\n",
    "    'online': validators_online,\n",
    "    'total': validators_total\n",
    "}\n",
    "\n",
    "data"
   ]
  },
  {
   "cell_type": "markdown",
   "id": "3c1ff5ca",
   "metadata": {},
   "source": [
    "# dht servers"
   ]
  },
  {
   "cell_type": "code",
   "execution_count": 186,
   "id": "f3b7cbb5",
   "metadata": {},
   "outputs": [],
   "source": [
    "import socket\n",
    "import struct\n",
    "import json\n",
    "from loguru import logger\n",
    "from tcp_latency import measure_latency\n",
    "\n",
    "\n",
    "def ip2int(addr):\n",
    "    return struct.unpack(\"!i\", socket.inet_aton(addr))[0]\n",
    "\n",
    "\n",
    "def int2ip(addr):\n",
    "    return socket.inet_ntoa(struct.pack(\"!i\", addr))"
   ]
  },
  {
   "cell_type": "code",
   "execution_count": 232,
   "id": "03475a2c",
   "metadata": {
    "scrolled": false
   },
   "outputs": [
    {
     "data": {
      "text/plain": [
       "[{'addr': '178.18.243.125:15888', 'available': '?', 'response_time': None},\n",
       " {'addr': '178.18.243.132:15888', 'available': '?', 'response_time': None},\n",
       " {'addr': '178.18.243.136:15888', 'available': '?', 'response_time': None},\n",
       " {'addr': '185.86.77.139:26907', 'available': '?', 'response_time': None},\n",
       " {'addr': '92.255.207.93:29503', 'available': '?', 'response_time': None},\n",
       " {'addr': '139.162.201.65:14395', 'available': '?', 'response_time': None},\n",
       " {'addr': '172.104.59.125:14432', 'available': '?', 'response_time': None},\n",
       " {'addr': '172.105.29.108:14583', 'available': '?', 'response_time': None},\n",
       " {'addr': '65.21.7.173:15813', 'available': '?', 'response_time': None},\n",
       " {'addr': '162.55.50.96:12821', 'available': '?', 'response_time': None},\n",
       " {'addr': '23.88.40.211:15895', 'available': '?', 'response_time': None},\n",
       " {'addr': '164.90.201.195:18513', 'available': '?', 'response_time': None},\n",
       " {'addr': '161.35.49.42:11369', 'available': '?', 'response_time': None},\n",
       " {'addr': '142.93.219.194:16937', 'available': '?', 'response_time': None},\n",
       " {'addr': '128.199.231.154:7651', 'available': '?', 'response_time': None},\n",
       " {'addr': '143.198.41.131:41623', 'available': '?', 'response_time': None},\n",
       " {'addr': '167.172.138.57:22261', 'available': '?', 'response_time': None},\n",
       " {'addr': '192.81.217.153:6302', 'available': '?', 'response_time': None},\n",
       " {'addr': '192.241.139.61:6302', 'available': '?', 'response_time': None},\n",
       " {'addr': '192.241.140.64:6302', 'available': '?', 'response_time': None},\n",
       " {'addr': '192.241.142.148:6302', 'available': '?', 'response_time': None},\n",
       " {'addr': '198.199.75.63:6302', 'available': '?', 'response_time': None},\n",
       " {'addr': '5.9.10.47:6302', 'available': '?', 'response_time': None},\n",
       " {'addr': '5.9.10.15:6302', 'available': '?', 'response_time': None},\n",
       " {'addr': '135.181.140.212:6302', 'available': '?', 'response_time': None},\n",
       " {'addr': '135.181.140.221:6302', 'available': '?', 'response_time': None},\n",
       " {'addr': '65.21.141.233:6302', 'available': '?', 'response_time': None},\n",
       " {'addr': '65.21.141.198:6302', 'available': '?', 'response_time': None},\n",
       " {'addr': '65.21.141.231:6302', 'available': '?', 'response_time': None},\n",
       " {'addr': '65.21.141.197:6302', 'available': '?', 'response_time': None},\n",
       " {'addr': '135.181.132.198:6302', 'available': '?', 'response_time': None},\n",
       " {'addr': '135.181.132.253:6302', 'available': '?', 'response_time': None}]"
      ]
     },
     "execution_count": 232,
     "metadata": {},
     "output_type": "execute_result"
    }
   ],
   "source": [
    "# Считать список серверов\n",
    "filePath = ton.liteClient.configPath\n",
    "file = open(filePath, 'rt')\n",
    "text = file.read()\n",
    "file.close()\n",
    "data = json.loads(text)\n",
    "dhts = data['dht']\n",
    "\n",
    "dht_servers = []\n",
    "for dht in dhts['static_nodes']['nodes']:\n",
    "    addr_dict = dht['addr_list']['addrs'][0]\n",
    "    if len(dht['addr_list']['addrs']) > 1:\n",
    "        logger.warning(\"WARNING, more than 1 address!\")\n",
    "    \n",
    "    ip = int2ip(addr_dict['ip'])\n",
    "    port = addr_dict['port']\n",
    "    addr = f\"{ip}:{port}\"\n",
    "    if ip == \"127.0.0.1\":\n",
    "        continue\n",
    "        \n",
    "    # ping\n",
    "    runs = 5\n",
    "    resp = measure_latency(addr, runs=runs, wait=0, timeout=5)\n",
    "    resp = [x for x in resp if x is not None]\n",
    "    if len(resp) > 0:\n",
    "        resp_time = sum(resp) / len(resp)\n",
    "        available = True\n",
    "    else:\n",
    "        resp_time = None\n",
    "        available = '?'\n",
    "    \n",
    "    loc = {'addr': addr, 'available': '?', 'response_time': resp_time}\n",
    "    dht_servers.append(loc)\n",
    "dht_servers"
   ]
  },
  {
   "cell_type": "markdown",
   "id": "12c990dd",
   "metadata": {},
   "source": [
    "# check liteservers"
   ]
  },
  {
   "cell_type": "raw",
   "id": "b90c7ccb",
   "metadata": {},
   "source": [
    "ton.liteClient.pubkeyPath\n",
    "# '/var/ton-work/keys/liteserver.pub'"
   ]
  },
  {
   "cell_type": "code",
   "execution_count": 211,
   "id": "84ca9866",
   "metadata": {
    "scrolled": false
   },
   "outputs": [
    {
     "name": "stdout",
     "output_type": "stream",
     "text": [
      "using liteserver 0 with addr [67.207.74.182:4924]\n",
      "zerostate set to -1:17A3A92992AABEA785A7A090985A265CD31F323D849DA51239737E321FB05569:5E994FCF4D425C0A6CE6A792594B7173205F740A39CD56F537DEFD28B48A0F6E\n",
      "latest masterchain block known to server is (-1,8000000000000000,16087396):6CC4D9B95E2F28950735773C81B8E9FEAD5A1B1C6595425EC4925A17EADAE81C:9E77FAD7A1DAB400485C4413F331F6B5EC446FF2C1C62EF713E215D5EFEDCD72 created at 1636927125 (7 seconds ago)\n",
      "BLK#1 = (-1,8000000000000000,16087396):6CC4D9B95E2F28950735773C81B8E9FEAD5A1B1C6595425EC4925A17EADAE81C:9E77FAD7A1DAB400485C4413F331F6B5EC446FF2C1C62EF713E215D5EFEDCD72\n",
      "BLK#2 = (-1,8000000000000000,0):17A3A92992AABEA785A7A090985A265CD31F323D849DA51239737E321FB05569:5E994FCF4D425C0A6CE6A792594B7173205F740A39CD56F537DEFD28B48A0F6E\n",
      "shard configuration is (\n",
      "  (hme_root\n",
      "    root:(hm_edge\n",
      "      label:(hml_same v:0 n:32)\n",
      "      node:(hmn_leaf\n",
      "        value:^(bt_leaf\n",
      "          leaf:(shard_descr_new seq_no:20933481 reg_mc_seqno:16087396 start_lt:22999808000000 end_lt:22999808000001 root_hash:x74112B4C2F538A2DDBFDF5ED23106C972009E1E7F0B8BDD30A6AD5250842989B file_hash:x6447F364F2C5722E3F3D2FBC2D0F77ECE2D185A8790587D893212ABAB65F9CD9 before_split:0 before_merge:0 want_split:0 want_merge:1 nx_cc_updated:0 flags:0 next_catchain_seqno:246941 next_validator_shard:9223372036854775808 min_ref_mc_seqno:16087393 gen_utime:1636927119\n",
      "            split_merge_at:fsm_none\n",
      "            (\n",
      "              fees_collected:(currencies\n",
      "                grams:(nanograms\n",
      "                  amount:(var_uint len:4 value:1000000000))\n",
      "                other:(extra_currencies\n",
      "                  dict:hme_empty))\n",
      "              funds_created:(currencies\n",
      "                grams:(nanograms\n",
      "                  amount:(var_uint len:4 value:1000000000))\n",
      "                other:(extra_currencies\n",
      "                  dict:hme_empty)))))))))\n",
      "x{C_}\n",
      " x{D04_}\n",
      "  x{5009FB5B4807ABCB200000A7587B1600000000A7587B16000BA0895A617A9C516EDFEFAF69188364B9004F0F3F85C5EE985356A9284214C4DB223F9B27962B9171F9E97DE1687BBF67168C2D43C82C3EC4990955D5B2FCE6C880001E24EC000000000000000007ABCB0B0C8C347A_}\n",
      "   x{43B9ACA0021DCD65002_}\n",
      "shard #1 : (0,8000000000000000,20933481):74112B4C2F538A2DDBFDF5ED23106C972009E1E7F0B8BDD30A6AD5250842989B:6447F364F2C5722E3F3D2FBC2D0F77ECE2D185A8790587D893212ABAB65F9CD9 @ 1636927119 lt 22999808000000 .. 22999808000001\n",
      "BLK#3 = (0,8000000000000000,20933481):74112B4C2F538A2DDBFDF5ED23106C972009E1E7F0B8BDD30A6AD5250842989B:6447F364F2C5722E3F3D2FBC2D0F77ECE2D185A8790587D893212ABAB65F9CD9\n",
      "\n",
      "{'addr': '67.207.74.182:4924', 'working': True, 'response_time': 47.12250232696533, 'syncronized': 'unknown'}\n"
     ]
    },
    {
     "data": {
      "text/plain": [
       "[]"
      ]
     },
     "execution_count": 211,
     "metadata": {},
     "output_type": "execute_result"
    }
   ],
   "source": [
    "# Считать список серверов\n",
    "filePath = ton.liteClient.configPath\n",
    "file = open(filePath, 'rt')\n",
    "text = file.read()\n",
    "file.close()\n",
    "data = json.loads(text)\n",
    "\n",
    "# Пройтись по серверам\n",
    "result = list()\n",
    "liteservers = data.get(\"liteservers\")\n",
    "for index, server in enumerate(liteservers):\n",
    "    ip = int2ip(server['ip'])\n",
    "    port = server['port']\n",
    "    addr = f\"{ip}:{port}\"\n",
    "    \n",
    "    # working\n",
    "    working = False\n",
    "    try:\n",
    "        ton.liteClient.Run(\"last\", index=index)\n",
    "        working = True\n",
    "    except: pass\n",
    "    \n",
    "    # ping\n",
    "    if working:\n",
    "        runs = 10\n",
    "        resp_time = measure_latency(ip, port=port, runs=runs, wait=0)\n",
    "        ping = sum(resp_time) / runs\n",
    "    else:\n",
    "        ping = None\n",
    "    \n",
    "    # status\n",
    "    try:\n",
    "        resp = ton.liteClient.Run(\"allshards\", index=index)\n",
    "        print(resp)\n",
    "    except: pass\n",
    "    \n",
    "    loc = {\n",
    "        'addr': addr,\n",
    "        'working': working,\n",
    "        'response_time': ping,\n",
    "        'syncronized': 'unknown',\n",
    "    }\n",
    "    print(loc)\n",
    "    break\n",
    "    result.append(loc)\n",
    "#end for\n",
    "\n",
    "# Записать данные в базу\n",
    "result"
   ]
  },
  {
   "cell_type": "raw",
   "id": "f0277a73",
   "metadata": {},
   "source": [
    "using liteserver 0 with addr [67.207.74.182:4924]\n",
    "zerostate set to -1:17A3A92992AABEA785A7A090985A265CD31F323D849DA51239737E321FB05569:5E994FCF4D425C0A6CE6A792594B7173205F740A39CD56F537DEFD28B48A0F6E\n",
    "latest masterchain block known to server is (-1,8000000000000000,16087348):89450741017413233C2C39F32D30B54ECCE9C91F9CB6360E799BB38AFD78A3BF:3D21555FB2843BA2129CCC7535F3FD7FB7841FADDEA12A2946253944568EAFDE created at 1636926954 (7 seconds ago)\n",
    "BLK#1 = (-1,8000000000000000,16087348):89450741017413233C2C39F32D30B54ECCE9C91F9CB6360E799BB38AFD78A3BF:3D21555FB2843BA2129CCC7535F3FD7FB7841FADDEA12A2946253944568EAFDE\n",
    "BLK#2 = (-1,8000000000000000,0):17A3A92992AABEA785A7A090985A265CD31F323D849DA51239737E321FB05569:5E994FCF4D425C0A6CE6A792594B7173205F740A39CD56F537DEFD28B48A0F6E"
   ]
  },
  {
   "cell_type": "markdown",
   "id": "b4b2800a",
   "metadata": {},
   "source": [
    "# Services uptime"
   ]
  },
  {
   "cell_type": "code",
   "execution_count": 230,
   "id": "9cab8b99",
   "metadata": {},
   "outputs": [],
   "source": [
    "services_list = [\n",
    "    {\n",
    "        'name': 'ton.sh',\n",
    "        'api': 'https://toncenter.com/api/v2/getAddressInformation?address=0QCyt4ltzak71h6XkyK4ePfZCzJQDSVUNuvZ3VE7hP_Q-GTE'\n",
    "\n",
    "    }\n",
    "]"
   ]
  },
  {
   "cell_type": "markdown",
   "id": "5824e4d8",
   "metadata": {},
   "source": [
    "# Governance"
   ]
  },
  {
   "cell_type": "code",
   "execution_count": 229,
   "id": "358d3602",
   "metadata": {},
   "outputs": [
    {
     "name": "stdout",
     "output_type": "stream",
     "text": [
      "\u001b[35m\u001b[1m[debug]   \u001b[0m14.11.2021, 22:14:25.374 (UTC)  \u001b[32m\u001b[1m<MainThread>  \u001b[0mstart GetConfig function (17)\n",
      "\u001b[35m\u001b[1m[debug]   \u001b[0m14.11.2021, 22:14:25.388 (UTC)  \u001b[32m\u001b[1m<MainThread>  \u001b[0mstart GetConfig function (15)\n",
      "\u001b[35m\u001b[1m[debug]   \u001b[0m14.11.2021, 22:14:25.401 (UTC)  \u001b[32m\u001b[1m<MainThread>  \u001b[0mstart GetConfig36 function\n",
      "\u001b[35m\u001b[1m[debug]   \u001b[0m14.11.2021, 22:14:25.417 (UTC)  \u001b[32m\u001b[1m<MainThread>  \u001b[0mstart GetFullElectorAddr function\n",
      "\u001b[35m\u001b[1m[debug]   \u001b[0m14.11.2021, 22:14:25.430 (UTC)  \u001b[32m\u001b[1m<MainThread>  \u001b[0mstart GetActiveElectionId function\n"
     ]
    },
    {
     "data": {
      "text/plain": [
       "{'status': 'closed',\n",
       " 'start': datetime.datetime(2021, 11, 14, 14, 0, 39),\n",
       " 'end': datetime.datetime(2021, 11, 14, 20, 50, 15),\n",
       " 'start_next': datetime.datetime(2021, 11, 15, 8, 12, 55)}"
      ]
     },
     "execution_count": 229,
     "metadata": {},
     "output_type": "execute_result"
    }
   ],
   "source": [
    "config17 = ton.GetConfig17()\n",
    "config15 = ton.GetConfig15()\n",
    "config34 = ton.GetConfig34()\n",
    "config36 = ton.GetConfig36()\n",
    "\n",
    "fullElectorAddr = ton.GetFullElectorAddr()\n",
    "\n",
    "\n",
    "# get times\n",
    "startWorkTime = ton.GetActiveElectionId(fullElectorAddr)\n",
    "election_status = \"open\"\n",
    "if startWorkTime == 0:\n",
    "    startWorkTime = config36.get(\"startWorkTime\")\n",
    "    if startWorkTime is None:\n",
    "        startWorkTime = config34.get(\"startWorkTime\")\n",
    "    election_status = \"closed\" \n",
    "\n",
    "electionsStartBefore = config15[\"electionsStartBefore\"]\n",
    "electionsEndBefore = config15[\"electionsEndBefore\"]\n",
    "validatorsElectedFor = config15[\"validatorsElectedFor\"]\n",
    "\n",
    "# compute election times\n",
    "startElection = startWorkTime - electionsStartBefore\n",
    "endElection = startWorkTime - electionsEndBefore\n",
    "startNextElection = startElection + validatorsElectedFor\n",
    "\n",
    "startElection = datetime.fromtimestamp(startElection)\n",
    "endElection = datetime.fromtimestamp(endElection)\n",
    "startNextElection = datetime.fromtimestamp(startNextElection)\n",
    "\n",
    "elections = {\n",
    "    'status': election_status,\n",
    "    'start': startElection,\n",
    "    'end': endElection,\n",
    "    'start_next': startNextElection\n",
    "}\n",
    "elections"
   ]
  },
  {
   "cell_type": "code",
   "execution_count": 228,
   "id": "97c7bb37",
   "metadata": {},
   "outputs": [
    {
     "name": "stdout",
     "output_type": "stream",
     "text": [
      "\u001b[35m\u001b[1m[debug]   \u001b[0m14.11.2021, 22:14:22.412 (UTC)  \u001b[32m\u001b[1m<MainThread>  \u001b[0mstart GetOffersNumber function\n",
      "\u001b[35m\u001b[1m[debug]   \u001b[0m14.11.2021, 22:14:22.413 (UTC)  \u001b[32m\u001b[1m<MainThread>  \u001b[0mstart GetOffers function\n",
      "\u001b[35m\u001b[1m[debug]   \u001b[0m14.11.2021, 22:14:22.413 (UTC)  \u001b[32m\u001b[1m<MainThread>  \u001b[0mstart GetFullConfigAddr function\n",
      "\u001b[35m\u001b[1m[debug]   \u001b[0m14.11.2021, 22:14:22.463 (UTC)  \u001b[32m\u001b[1m<MainThread>  \u001b[0mstart GetConfig34 function\n",
      "\u001b[35m\u001b[1m[debug]   \u001b[0m14.11.2021, 22:14:22.479 (UTC)  \u001b[32m\u001b[1m<MainThread>  \u001b[0mstart GetOffers function\n"
     ]
    },
    {
     "data": {
      "text/plain": [
       "{'all': 0, 'new': 0, 'offers_list': []}"
      ]
     },
     "execution_count": 228,
     "metadata": {},
     "output_type": "execute_result"
    }
   ],
   "source": [
    "offers = ton.GetOffersNumber()\n",
    "offers_list = ton.GetOffers()\n",
    "offers['offers_list'] = offers_list\n",
    "\n",
    "offers"
   ]
  },
  {
   "cell_type": "code",
   "execution_count": 222,
   "id": "007f0a14",
   "metadata": {},
   "outputs": [
    {
     "name": "stdout",
     "output_type": "stream",
     "text": [
      "\u001b[35m\u001b[1m[debug]   \u001b[0m14.11.2021, 22:08:26.077 (UTC)  \u001b[32m\u001b[1m<MainThread>  \u001b[0mstart GetComplaintsNumber function\n",
      "\u001b[35m\u001b[1m[debug]   \u001b[0m14.11.2021, 22:08:26.077 (UTC)  \u001b[32m\u001b[1m<MainThread>  \u001b[0mstart GetComplaints function\n",
      "\u001b[35m\u001b[1m[debug]   \u001b[0m14.11.2021, 22:08:26.077 (UTC)  \u001b[32m\u001b[1m<MainThread>  \u001b[0mstart GetFullElectorAddr function\n",
      "\u001b[35m\u001b[1m[debug]   \u001b[0m14.11.2021, 22:08:26.099 (UTC)  \u001b[32m\u001b[1m<MainThread>  \u001b[0mstart GetConfig32 function\n",
      "\u001b[35m\u001b[1m[debug]   \u001b[0m14.11.2021, 22:08:26.138 (UTC)  \u001b[32m\u001b[1m<MainThread>  \u001b[0mstart GetComplaints function\n"
     ]
    },
    {
     "data": {
      "text/plain": [
       "{'all': 0, 'new': 0, 'complaints_list': {}}"
      ]
     },
     "execution_count": 222,
     "metadata": {},
     "output_type": "execute_result"
    }
   ],
   "source": [
    "complaints = ton.GetComplaintsNumber()\n",
    "complaints_list = ton.GetComplaints()\n",
    "complaints['complaints_list'] = complaints_list\n",
    "\n",
    "complaints"
   ]
  },
  {
   "cell_type": "code",
   "execution_count": 115,
   "id": "0669c83c",
   "metadata": {},
   "outputs": [
    {
     "data": {
      "text/plain": [
       "{'elections': {'status': 'open',\n",
       "  'start': datetime.datetime(2021, 11, 14, 14, 0, 39),\n",
       "  'end': datetime.datetime(2021, 11, 14, 20, 50, 15),\n",
       "  'start_next': datetime.datetime(2021, 11, 15, 8, 12, 55)},\n",
       " 'offers': {'all': 0, 'new': 0, 'offers_list': []},\n",
       " 'complaints': {'all': 0, 'new': 0, 'complaints_list': {}}}"
      ]
     },
     "execution_count": 115,
     "metadata": {},
     "output_type": "execute_result"
    }
   ],
   "source": [
    "governance = {\n",
    "    'elections': elections,\n",
    "    'offers': offers,\n",
    "    'complaints': complaints\n",
    "}\n",
    "governance"
   ]
  },
  {
   "cell_type": "markdown",
   "id": "b4f4d9df",
   "metadata": {},
   "source": [
    "# Bridge check"
   ]
  },
  {
   "cell_type": "code",
   "execution_count": 165,
   "id": "b3bc1d48",
   "metadata": {},
   "outputs": [
    {
     "data": {
      "text/plain": [
       "[{'name': 'ton-eth',\n",
       "  'url': 'https://ton.org/bridge/',\n",
       "  'web_page_status': 'available',\n",
       "  'smart_contract_state': 0},\n",
       " {'name': 'ton-bsc',\n",
       "  'url': 'https://ton.org/bridge/bsc',\n",
       "  'web_page_status': 'available',\n",
       "  'smart_contract_state': 0},\n",
       " {'name': 'ton-other',\n",
       "  'url': 'https://ton.org/bridge/exmo',\n",
       "  'web_page_status': 'not available',\n",
       "  'smart_contract_state': None}]"
      ]
     },
     "execution_count": 165,
     "metadata": {},
     "output_type": "execute_result"
    }
   ],
   "source": [
    "from bs4 import BeautifulSoup\n",
    "\n",
    "\n",
    "bridge_list = [{'name': 'ton-eth','url': 'https://ton.org/bridge/', \n",
    "                'address': 'Ef_dJMSh8riPi3BTUTtcxsWjG8RLKnLctNjAM4rw8NN-xWdr'},\n",
    "               {'name': 'ton-bsc', 'url': 'https://ton.org/bridge/bsc', \n",
    "                'address': 'Ef9NXAIQs12t2qIZ-sRZ26D977H65Ol6DQeXc5_gUNaUys5r'},\n",
    "               {'name': 'ton-other', 'url': 'https://ton.org/bridge/exmo', \n",
    "                'address': ''}]\n",
    "\n",
    "bridges = []\n",
    "for bridge_dict in bridge_list:\n",
    "    resp = R.get(bridge_dict['url'])\n",
    "    \n",
    "    # web page status\n",
    "    web_page_status = 'not available'\n",
    "    if resp.status_code == 200:\n",
    "        page = BeautifulSoup(resp.content, features=\"html.parser\")\n",
    "        button = page.find_all(attrs={'id': ['transferButton']})\n",
    "        if len(button) > 0:\n",
    "            web_page_status = 'available'\n",
    "            \n",
    "    # api status\n",
    "    smart_contract_state = None\n",
    "    if bridge_dict['address']:\n",
    "        cmd = 'runmethod {address} get_bridge_data'.format(**bridge_dict)\n",
    "        resp = ton.liteClient.Run(cmd)\n",
    "        for row in resp.split('\\n'):\n",
    "            if 'result:' in row and '[' in row:\n",
    "                row = row[row.find('[')+1:row.find(']')].strip()\n",
    "                row = row.split()\n",
    "                if len(row) > 0:\n",
    "                    smart_contract_state = int(row[0])\n",
    "    bridges.append({\n",
    "        'name': bridge_dict['name'],\n",
    "        'url': bridge_dict['url'],\n",
    "        'web_page_status': web_page_status,\n",
    "        'smart_contract_state': smart_contract_state\n",
    "    })\n",
    "bridges"
   ]
  },
  {
   "cell_type": "raw",
   "id": "7fe00546",
   "metadata": {},
   "source": [
    "headers = {'Cache-Control': 'no-store, max-age=0'}\n",
    "resp = R.get('https://ton.org/bridge/WTON.json', headers=headers)\n",
    "resp.content"
   ]
  },
  {
   "cell_type": "markdown",
   "id": "6b4f9a96",
   "metadata": {},
   "source": [
    "# OLD"
   ]
  },
  {
   "cell_type": "code",
   "execution_count": null,
   "id": "630bc682",
   "metadata": {},
   "outputs": [],
   "source": [
    "lite = M.LiteClient()"
   ]
  },
  {
   "cell_type": "code",
   "execution_count": null,
   "id": "730e999a",
   "metadata": {},
   "outputs": [],
   "source": [
    "ton.GetConfig12()"
   ]
  },
  {
   "cell_type": "code",
   "execution_count": null,
   "id": "9754054e",
   "metadata": {},
   "outputs": [],
   "source": [
    "ton.GetConfig15()"
   ]
  },
  {
   "cell_type": "raw",
   "id": "12a117c8",
   "metadata": {
    "scrolled": false
   },
   "source": [
    "config = {}\n",
    "for i in range(40):\n",
    "    config[i] = ton.GetConfig(i)\n",
    "config"
   ]
  },
  {
   "cell_type": "code",
   "execution_count": null,
   "id": "8f83adc7",
   "metadata": {},
   "outputs": [],
   "source": [
    "config36 = ton.GetConfig36()\n",
    "config36"
   ]
  },
  {
   "cell_type": "code",
   "execution_count": null,
   "id": "5d0fe08e",
   "metadata": {},
   "outputs": [],
   "source": [
    "shardsNumber = ton.GetShardsNumber()\n",
    "print('shards_number:', shardsNumber)"
   ]
  },
  {
   "cell_type": "code",
   "execution_count": null,
   "id": "b825691f",
   "metadata": {},
   "outputs": [],
   "source": []
  },
  {
   "cell_type": "code",
   "execution_count": null,
   "id": "30dc956c",
   "metadata": {},
   "outputs": [],
   "source": [
    "online_validators = ton.GetOnlineValidators()\n",
    "validator_efficiency = ton.GetValidatorEfficiency()"
   ]
  },
  {
   "cell_type": "raw",
   "id": "a898efe1",
   "metadata": {},
   "source": [
    "validator_status = ton.GetValidatorStatus()\n",
    "validator_status"
   ]
  },
  {
   "cell_type": "code",
   "execution_count": null,
   "id": "5877612d",
   "metadata": {},
   "outputs": [],
   "source": [
    "config15 = ton.GetConfig15()\n",
    "config17 = ton.GetConfig17()"
   ]
  },
  {
   "cell_type": "code",
   "execution_count": null,
   "id": "bf5ee92f",
   "metadata": {},
   "outputs": [],
   "source": [
    "statistics = ton.GetSettings(\"statistics\")\n",
    "statistics"
   ]
  },
  {
   "cell_type": "code",
   "execution_count": null,
   "id": "dfbc8040",
   "metadata": {},
   "outputs": [],
   "source": [
    "rootWorkchainEnabledTime_int = ton.GetRootWorkchainEnabledTime()\n",
    "rootWorkchainEnabledTime_int"
   ]
  },
  {
   "cell_type": "code",
   "execution_count": null,
   "id": "ed88feb4",
   "metadata": {
    "scrolled": false
   },
   "outputs": [],
   "source": [
    "validators_info = ton.GetValidatorsLoad()\n",
    "validators_info[0]"
   ]
  },
  {
   "cell_type": "code",
   "execution_count": null,
   "id": "cf23ceea",
   "metadata": {},
   "outputs": [],
   "source": [
    "compliants_info = ton.GetComplaints()\n",
    "compliants_info"
   ]
  },
  {
   "cell_type": "code",
   "execution_count": null,
   "id": "34bac273",
   "metadata": {},
   "outputs": [],
   "source": [
    "ton.GetAdnlAddr()"
   ]
  },
  {
   "cell_type": "code",
   "execution_count": null,
   "id": "8cd36113",
   "metadata": {},
   "outputs": [],
   "source": [
    "statistics = ton.GetSettings(\"statistics\")\n",
    "tpsAvg = ton.GetStatistics(\"tpsAvg\", statistics)\n",
    "netLoadAvg = ton.GetStatistics(\"netLoadAvg\", statistics)\n",
    "disksLoadAvg = ton.GetStatistics(\"disksLoadAvg\", statistics)\n",
    "disksLoadPercentAvg = ton.GetStatistics(\"disksLoadPercentAvg\", statistics)\n",
    "\n",
    "statistics"
   ]
  },
  {
   "cell_type": "code",
   "execution_count": null,
   "id": "4e34273f",
   "metadata": {},
   "outputs": [],
   "source": [
    "def PrintStatus(args):\n",
    "    opt = None\n",
    "    if len(args) == 1:\n",
    "        opt = args[0]\n",
    "    rootWorkchainEnabledTime_int = ton.GetRootWorkchainEnabledTime()\n",
    "    config34 = ton.GetConfig34()\n",
    "    config36 = ton.GetConfig36()\n",
    "    totalValidators = config34[\"totalValidators\"]\n",
    "    onlineValidators = None\n",
    "    validatorEfficiency = None\n",
    "    if opt != \"fast\":\n",
    "        onlineValidators = ton.GetOnlineValidators()\n",
    "        validatorEfficiency = ton.GetValidatorEfficiency()\n",
    "    if onlineValidators:\n",
    "        onlineValidators = len(onlineValidators)\n",
    "    oldStartWorkTime = config36.get(\"startWorkTime\")\n",
    "    if oldStartWorkTime is None:\n",
    "        oldStartWorkTime = config34.get(\"startWorkTime\")\n",
    "    shardsNumber = ton.GetShardsNumber()\n",
    "    validatorStatus = ton.GetValidatorStatus()\n",
    "    config15 = ton.GetConfig15()\n",
    "    config17 = ton.GetConfig17()\n",
    "    fullConfigAddr = ton.GetFullConfigAddr()\n",
    "    fullElectorAddr = ton.GetFullElectorAddr()\n",
    "    startWorkTime = ton.GetActiveElectionId(fullElectorAddr)\n",
    "    validatorIndex = ton.GetValidatorIndex()\n",
    "    validatorWallet = ton.GetLocalWallet(ton.validatorWalletName)\n",
    "    dbSize = ton.GetDbSize()\n",
    "    offersNumber = ton.GetOffersNumber()\n",
    "    complaintsNumber = ton.GetComplaintsNumber()\n",
    "    statistics = ton.GetSettings(\"statistics\")\n",
    "    tpsAvg = ton.GetStatistics(\"tpsAvg\", statistics)\n",
    "    netLoadAvg = ton.GetStatistics(\"netLoadAvg\", statistics)\n",
    "    disksLoadAvg = ton.GetStatistics(\"disksLoadAvg\", statistics)\n",
    "    disksLoadPercentAvg = ton.GetStatistics(\"disksLoadPercentAvg\", statistics)\n",
    "    if validatorWallet is not None:\n",
    "        validatorAccount = ton.GetAccount(validatorWallet.addr)\n",
    "    else:\n",
    "        validatorAccount = None\n",
    "    PrintTonStatus(startWorkTime, totalValidators, onlineValidators, shardsNumber, offersNumber, complaintsNumber, tpsAvg)\n",
    "    PrintLocalStatus(validatorIndex, validatorEfficiency, validatorWallet, validatorAccount, validatorStatus, dbSize, netLoadAvg, disksLoadAvg, disksLoadPercentAvg)\n",
    "    PrintTonConfig(fullConfigAddr, fullElectorAddr, config15, config17)\n",
    "    PrintTimes(rootWorkchainEnabledTime_int, startWorkTime, oldStartWorkTime, config15)"
   ]
  }
 ],
 "metadata": {
  "kernelspec": {
   "display_name": "Python 3 (ipykernel)",
   "language": "python",
   "name": "python3"
  },
  "language_info": {
   "codemirror_mode": {
    "name": "ipython",
    "version": 3
   },
   "file_extension": ".py",
   "mimetype": "text/x-python",
   "name": "python",
   "nbconvert_exporter": "python",
   "pygments_lexer": "ipython3",
   "version": "3.8.10"
  }
 },
 "nbformat": 4,
 "nbformat_minor": 5
}
