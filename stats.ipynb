{
 "cells": [
  {
   "cell_type": "code",
   "execution_count": 1,
   "id": "7dce4542",
   "metadata": {},
   "outputs": [],
   "source": [
    "import sys\n",
    "sys.path.insert(0, '/usr/src/mytonctrl')"
   ]
  },
  {
   "cell_type": "code",
   "execution_count": 2,
   "id": "45df1df1",
   "metadata": {},
   "outputs": [],
   "source": [
    "import requests as R\n",
    "import mytonctrl as M\n",
    "\n",
    "\n",
    "from datetime import datetime"
   ]
  },
  {
   "cell_type": "markdown",
   "id": "4b1fa107",
   "metadata": {},
   "source": [
    "# Prod"
   ]
  },
  {
   "cell_type": "code",
   "execution_count": 42,
   "id": "134f41ec",
   "metadata": {},
   "outputs": [
    {
     "data": {
      "text/plain": [
       "['admin', 'config', 'local', 'production_ton_monitor']"
      ]
     },
     "execution_count": 42,
     "metadata": {},
     "output_type": "execute_result"
    }
   ],
   "source": [
    "from pymongo import MongoClient\n",
    "\n",
    "prod_client = MongoClient(host='51.250.2.106', port=27017)\n",
    "prod_client.list_database_names()"
   ]
  },
  {
   "cell_type": "code",
   "execution_count": 44,
   "id": "47b95227",
   "metadata": {},
   "outputs": [
    {
     "data": {
      "text/plain": [
       "Database(MongoClient(host=['51.250.2.106:27017'], document_class=dict, tz_aware=False, connect=True), 'production_ton_monitor')"
      ]
     },
     "execution_count": 44,
     "metadata": {},
     "output_type": "execute_result"
    }
   ],
   "source": [
    "db = prod_client['production_ton_monitor']\n",
    "db"
   ]
  },
  {
   "cell_type": "code",
   "execution_count": 45,
   "id": "fbcd2faa",
   "metadata": {},
   "outputs": [
    {
     "data": {
      "text/plain": [
       "['transaction_details',\n",
       " 'ton_bridges',\n",
       " 'validators',\n",
       " 'governance',\n",
       " 'ton_apis',\n",
       " 'transactions',\n",
       " 'blocks',\n",
       " 'liteservers']"
      ]
     },
     "execution_count": 45,
     "metadata": {},
     "output_type": "execute_result"
    }
   ],
   "source": [
    "db.list_collection_names()"
   ]
  },
  {
   "cell_type": "code",
   "execution_count": 118,
   "id": "eabbad55",
   "metadata": {},
   "outputs": [
    {
     "data": {
      "text/plain": [
       "['connecting to [127.0.0.1:4351]',\n",
       " 'local key: 443652FA14CE7BA2A0280622E0D824718422F6C2E00B107D254AAFD0342F85AD',\n",
       " 'remote key: 91B063AB47BC55B82A8DE69D36D36231A489527CA21802217888BE231C1CE661',\n",
       " 'conn ready',\n",
       " 'unixtime\\t\\t\\t1637127512',\n",
       " 'masterchainblock\\t\\t\\t(-1,8000000000000000,16143168):64EC0D19AD417F37C1931D1124D8964C8CC0F92CBDD025EA263C16D49EC6C660:7EE6E01C268C93371A539C5CD85D247CF65B15C47FB4541E6A43378284B922FA',\n",
       " 'masterchainblocktime\\t\\t\\t1637127501',\n",
       " 'gcmasterchainblock\\t\\t\\t(-1,8000000000000000,16067661):1095E800069130A89F743A8FF5003BEEDB6833FE072C2EE9485B418682BBA9EE:653635AD1C19166766F39A8F41A1B5A32BFBC92AA16ADBF8E3F4AA2A15E3CC74',\n",
       " 'keymasterchainblock\\t\\t\\t(-1,8000000000000000,16141109):BF87EF052C392C0F56C45BB62640AA63946D5E28A4BB38A24FE1C82889639522:4D52989C86EBBC480C879BD137471609AACD617A09013D2F8EF10FD4AE85FA7D',\n",
       " 'knownkeymasterchainblock\\t\\t\\t(-1,8000000000000000,16141109):BF87EF052C392C0F56C45BB62640AA63946D5E28A4BB38A24FE1C82889639522:4D52989C86EBBC480C879BD137471609AACD617A09013D2F8EF10FD4AE85FA7D',\n",
       " 'rotatemasterchainblock\\t\\t\\t(-1,8000000000000000,16143168):64EC0D19AD417F37C1931D1124D8964C8CC0F92CBDD025EA263C16D49EC6C660:7EE6E01C268C93371A539C5CD85D247CF65B15C47FB4541E6A43378284B922FA',\n",
       " 'stateserializermasterchainseqno\\t\\t\\t16104548',\n",
       " 'shardclientmasterchainseqno\\t\\t\\t16143168',\n",
       " '']"
      ]
     },
     "execution_count": 118,
     "metadata": {},
     "output_type": "execute_result"
    }
   ],
   "source": [
    "result = ton.validatorConsole.Run(\"getstats\").split('\\n')\n",
    "result"
   ]
  },
  {
   "cell_type": "raw",
   "id": "a69a4b99",
   "metadata": {},
   "source": [
    "for block in db.blocks.find({}):\n",
    "    if block['workchain_id'] == '-1':\n",
    "        print(block['block_number'])"
   ]
  },
  {
   "cell_type": "markdown",
   "id": "dc624f7f",
   "metadata": {},
   "source": [
    "# reset database"
   ]
  },
  {
   "cell_type": "code",
   "execution_count": null,
   "id": "577f1cb8",
   "metadata": {},
   "outputs": [],
   "source": [
    "db_test = get_database('test_db')\n",
    "x = db_test.test_collection.insert_one({'test': 2})\n",
    "x.inserted_id"
   ]
  },
  {
   "cell_type": "code",
   "execution_count": null,
   "id": "fa8d1bec",
   "metadata": {},
   "outputs": [],
   "source": [
    "from bson import ObjectId"
   ]
  },
  {
   "cell_type": "code",
   "execution_count": null,
   "id": "626ee1d6",
   "metadata": {},
   "outputs": [],
   "source": [
    "db_test.test_collection.replace_one(Obj)"
   ]
  },
  {
   "cell_type": "code",
   "execution_count": null,
   "id": "e15a313a",
   "metadata": {},
   "outputs": [],
   "source": [
    "db_test.test_collection.update_one({'_id': x.inserted_id}, {\"$inc\": {\"test\": -1}})\n",
    "list(db_test.test_collection.find({}))"
   ]
  },
  {
   "cell_type": "code",
   "execution_count": null,
   "id": "023a9815",
   "metadata": {},
   "outputs": [],
   "source": [
    "from pymongo import ObjectId\n",
    "id1 = ObjectId('6194466751b12abd8a94bbd7')"
   ]
  },
  {
   "cell_type": "code",
   "execution_count": null,
   "id": "93cffeb6",
   "metadata": {},
   "outputs": [],
   "source": [
    "db_test.test_collection.replace_one({'test': 2}, {\"test1\": 3, \"test2\": 4})"
   ]
  },
  {
   "cell_type": "code",
   "execution_count": null,
   "id": "23fceb81",
   "metadata": {},
   "outputs": [],
   "source": [
    "db_test.test_collection.update_one({'_id': x.inserted_id}, {\"$inc\": {\"test\": -1}})\n",
    "list(db_test.test_collection.find({}))"
   ]
  },
  {
   "cell_type": "raw",
   "id": "e049feb8",
   "metadata": {},
   "source": [
    "from backend.data.mongodb import get_database\n",
    "db = get_database('ton_monitor_debug')\n",
    "for collection in db.list_collection_names():\n",
    "    db.drop_collection(collection)\n",
    "    print(collection)"
   ]
  },
  {
   "cell_type": "code",
   "execution_count": null,
   "id": "3a7b62b7",
   "metadata": {},
   "outputs": [],
   "source": [
    "last"
   ]
  },
  {
   "cell_type": "code",
   "execution_count": null,
   "id": "cc358ad5",
   "metadata": {},
   "outputs": [],
   "source": [
    "l = [1, 2, 3, 4, 5, 6]\n",
    "l.pop(0)\n",
    "l"
   ]
  },
  {
   "cell_type": "code",
   "execution_count": null,
   "id": "57fd72b9",
   "metadata": {},
   "outputs": [],
   "source": [
    "from "
   ]
  },
  {
   "cell_type": "code",
   "execution_count": null,
   "id": "8d053021",
   "metadata": {},
   "outputs": [],
   "source": [
    "!pip3 install bencode.py"
   ]
  },
  {
   "cell_type": "code",
   "execution_count": null,
   "id": "f55eb281",
   "metadata": {},
   "outputs": [],
   "source": [
    "{\n",
    "  \"@type\":\"dht.node\",\n",
    "  \"id\":{\n",
    "     \"@type\":\"pub.ed25519\",\n",
    "     \"key\":\"C1uy64rfGxp10SPSqbsxWhbumy5SM0YbvljCudwpZeI=\"\n",
    "  },\n",
    "  \"addr_list\":{\n",
    "     \"@type\":\"adnl.addressList\",\n",
    "     \"addrs\":[\n",
    "        {\n",
    "           \"@type\":\"adnl.address.udp\",\n",
    "           \"ip\":-1307380867,\n",
    "           \"port\":15888\n",
    "        }\n",
    "     ],\n",
    "     \"version\":0,\n",
    "     \"reinit_date\":0,\n",
    "     \"priority\":0,\n",
    "     \"expire_at\":0\n",
    "  },\n",
    "  \"version\":-1,\n",
    "  \"signature\":\"s+tnHMTzPYG8abau+1dUs8tBJ+CDt+jIPmGfaVd7nmfb1gt6lL10G2IwkNeWhkxjZcAHRc0azWFVxp+IjIOOBQ==\"\n",
    "},"
   ]
  },
  {
   "cell_type": "code",
   "execution_count": 25,
   "id": "f200c420",
   "metadata": {},
   "outputs": [
    {
     "data": {
      "text/plain": [
       "'178.18.243.125:15888'"
      ]
     },
     "execution_count": 25,
     "metadata": {},
     "output_type": "execute_result"
    }
   ],
   "source": [
    "f\"{int2ip(-1307380867)}:{15888}\""
   ]
  },
  {
   "cell_type": "code",
   "execution_count": 13,
   "id": "bc7c18e9",
   "metadata": {},
   "outputs": [
    {
     "data": {
      "text/plain": [
       "'0x3e10'"
      ]
     },
     "execution_count": 13,
     "metadata": {},
     "output_type": "execute_result"
    }
   ],
   "source": [
    "hex(15888)"
   ]
  },
  {
   "cell_type": "code",
   "execution_count": 20,
   "id": "092eb628",
   "metadata": {},
   "outputs": [],
   "source": [
    "old_servers = [\n",
    "    {'addr': 1, 'val': 10},\n",
    "    {'addr': 2, 'val': 20},\n",
    "    {'addr': 3, 'val': 30},\n",
    "]\n",
    "new_servers = [\n",
    "    {'addr': 1, 'val': 10, 'val2': 100},\n",
    "    {'addr': 4, 'val2': 400},\n",
    "]"
   ]
  },
  {
   "cell_type": "code",
   "execution_count": 22,
   "id": "04353493",
   "metadata": {},
   "outputs": [
    {
     "data": {
      "text/plain": [
       "[{'_id': ObjectId('6194698d9860638455ea482e'), 'addr': 1, 'val': 10},\n",
       " {'_id': ObjectId('6194698d9860638455ea482f'), 'addr': 2, 'val': 20},\n",
       " {'_id': ObjectId('6194698d9860638455ea4830'), 'addr': 3, 'val': 30}]"
      ]
     },
     "execution_count": 22,
     "metadata": {},
     "output_type": "execute_result"
    }
   ],
   "source": [
    "from backend.data.mongodb import get_mongo_client\n",
    "\n",
    "get_mongo_client().test_db.drop_collection('test2')\n",
    "liteservers_collection = get_mongo_client().test_db.test2\n",
    "liteservers_collection.insert_many(old_servers)\n",
    "list(liteservers_collection.find({}))"
   ]
  },
  {
   "cell_type": "code",
   "execution_count": null,
   "id": "59d5ff46",
   "metadata": {},
   "outputs": [],
   "source": [
    "def update_mongo_collection(new, old, collection, key):\n",
    "    new_set = {x['key'] for x in new}\n",
    "    old_set = {x['key'] for x in old}\n",
    "\n",
    "    to_remove = old_set - new_set\n",
    "    to_update = old_set & new_set\n",
    "    to_add = new_set - old_set\n",
    "\n",
    "    # remove\n",
    "    for k in to_remove:\n",
    "        collection.delete_one({key: k})\n",
    "\n",
    "    # add and update\n",
    "    for x in new:\n",
    "        if x[key] in to_update:\n",
    "            collection.replace_one({key: x[key]}, x)\n",
    "        else:\n",
    "            collection.insert_one(x)\n",
    "    return"
   ]
  },
  {
   "cell_type": "code",
   "execution_count": 27,
   "id": "f2f1c99f",
   "metadata": {},
   "outputs": [],
   "source": [
    "ton = M.MyTonCore()"
   ]
  },
  {
   "cell_type": "code",
   "execution_count": 35,
   "id": "8138c852",
   "metadata": {},
   "outputs": [
    {
     "data": {
      "text/plain": [
       "'latest masterchain block known to server is (-1,8000000000000000,16140715):13FAE27B768FC5F1EAFC2181109AE8835DD642F1709B229ECED69774B7F95081:4361306A6420838016DA3E3DC47F3CC318F54A5734E21DDFAF56B057BD16812A created at 1637118215 (6 seconds ago)\\nBLK#1 = (-1,8000000000000000,16140715):13FAE27B768FC5F1EAFC2181109AE8835DD642F1709B229ECED69774B7F95081:4361306A6420838016DA3E3DC47F3CC318F54A5734E21DDFAF56B057BD16812A\\nBLK#2 = (-1,8000000000000000,0):17A3A92992AABEA785A7A090985A265CD31F323D849DA51239737E321FB05569:5E994FCF4D425C0A6CE6A792594B7173205F740A39CD56F537DEFD28B48A0F6E\\n                                                                                                                               ^\\n'"
      ]
     },
     "execution_count": 35,
     "metadata": {},
     "output_type": "execute_result"
    }
   ],
   "source": [
    "block = {\n",
    "  \"workchain\": -1,\n",
    "  \"shard\": -9223372036854775808,\n",
    "  \"seqno\": 0,\n",
    "  \"root_hash\": \"F6OpKZKqvqeFp6CQmFomXNMfMj2EnaUSOXN+Mh+wVWk=\",\n",
    "  \"file_hash\": \"XplPz01CXAps5qeSWUtxcyBfdAo5zVb1N979KLSKD24=\"\n",
    "}\n",
    "block = \"(-1,8000000000000000,0):17A3A92992AABEA785A7A090985A265CD31F323D849DA51239737E321FB05569:5E994FCF4D425C0A6CE6A792594B7173205F740A39CD56F537DEFD28B48A0F6E\"\n",
    "block = \"(-1,8000000000000000,16140693):23291E846C065C9A0CD7C7FC67F5F64BBB39447415336D24FF5A5DA0965D6D23:AF67E40BB6A6FA0E625C3ED6E9B52638A9BF81A016FC3569E53F44350FFC75C6\"\n",
    "block = \"(-1,-9223372036854775808,0):F6OpKZKqvqeFp6CQmFomXNMfMj2EnaUSOXN+Mh+wVWk=:XplPz01CXAps5qeSWUtxcyBfdAo5zVb1N979KLSKD24=\"\n",
    "ton.liteClient.Run(f\"dumpblock {block}\")"
   ]
  },
  {
   "cell_type": "code",
   "execution_count": null,
   "id": "ded2f273",
   "metadata": {},
   "outputs": [],
   "source": [
    "list(liteservers_collection)"
   ]
  },
  {
   "cell_type": "code",
   "execution_count": 18,
   "id": "f6b4bd2c",
   "metadata": {},
   "outputs": [
    {
     "data": {
      "text/plain": [
       "574297323898973918"
      ]
     },
     "execution_count": 18,
     "metadata": {},
     "output_type": "execute_result"
    }
   ],
   "source": [
    "hash('C1uy64rfGxp10SPSqbsxWhbumy5SM0YbvljCudwpZeI=')"
   ]
  },
  {
   "cell_type": "code",
   "execution_count": null,
   "id": "35be92af",
   "metadata": {},
   "outputs": [],
   "source": [
    "b212f37d3e10"
   ]
  },
  {
   "cell_type": "code",
   "execution_count": 16,
   "id": "f65eb2e5",
   "metadata": {},
   "outputs": [
    {
     "data": {
      "text/plain": [
       "['0xb2', '0x12', '0xf3', '0x7d']"
      ]
     },
     "execution_count": 16,
     "metadata": {},
     "output_type": "execute_result"
    }
   ],
   "source": [
    "list(map(hex, map(int, int2ip(-1307380867).split('.'))))"
   ]
  },
  {
   "cell_type": "raw",
   "id": "c05f02ec",
   "metadata": {},
   "source": [
    "import bencode\n",
    "import random\n",
    "import socket\n",
    "from backend.utils import int2ip\n",
    "\n",
    "\n",
    "# Generate a 160-bit (20-byte) random node ID.\n",
    "my_id = ''.join([chr(random.randint(0, 255)) for _ in range(20)])\n",
    "\n",
    "# Create ping query and bencode it.\n",
    "# \"'y': 'q'\" is for \"query\".\n",
    "# \"'t': '0f'\" is a transaction ID which will be echoed in the response.\n",
    "# \"'q': 'ping'\" is a query type.\n",
    "# \"'a': {'id': my_id}\" is arguments. In this case there is only one argument -\n",
    "# our node ID.\n",
    "ping_query = {'y': 'q',\n",
    "              't': '0f',\n",
    "              'q': 'ping',\n",
    "              'a': {'id': my_id}}\n",
    "ping_query_bencoded = bencode.bencode(ping_query)\n",
    "\n",
    "# Send a datagram to a server and recieve a response.\n",
    "s = socket.socket(socket.AF_INET, socket.SOCK_DGRAM)\n",
    "s.sendto(ping_query_bencoded,\n",
    "         (int2ip(-1307380867), 15888))\n",
    "r = s.recvfrom(1024)\n",
    "ping_response = bencode.bdecode(r[0])\n",
    "\n",
    "print(ping_response)"
   ]
  },
  {
   "cell_type": "code",
   "execution_count": null,
   "id": "6e7903ec",
   "metadata": {},
   "outputs": [],
   "source": [
    "def get_parent(block):\n",
    "    block_full = ton.liteClient.Run(f'dumpblock {block}').split('\\n')\n",
    "    prev = None\n",
    "    for row in block_full()"
   ]
  },
  {
   "cell_type": "code",
   "execution_count": null,
   "id": "dc4afa36",
   "metadata": {
    "scrolled": false
   },
   "outputs": [],
   "source": [
    "def get_last_block():\n",
    "    result = ton.liteClient.Run(\"last\")\n",
    "    lines = result.split('\\n')\n",
    "    for line in lines:\n",
    "        if \"latest masterchain block\" in line:\n",
    "            buff = line.split(' ')\n",
    "            block = buff[7]\n",
    "    return block, result\n",
    "\n",
    "prev = None\n",
    "last = prev\n",
    "while True:\n",
    "    last, result = get_last_block()\n",
    "    if last != prev:\n",
    "        print('=' * 80)\n",
    "        display(result)\n",
    "        \n",
    "        block_full = ton.liteClient.Run(f'dumpblock {block}')\n",
    "        display(block_full.split('\\n'))\n",
    "        \n",
    "#         shards = ton.GetShards(last)\n",
    "#         display(shards)\n",
    "#         for shard in shards:\n",
    "#             display(ton.GetShards(shard['block']))\n",
    "    prev = last"
   ]
  },
  {
   "cell_type": "code",
   "execution_count": null,
   "id": "0f7cdcf4",
   "metadata": {},
   "outputs": [],
   "source": []
  },
  {
   "cell_type": "code",
   "execution_count": null,
   "id": "8edbdcdc",
   "metadata": {
    "scrolled": false
   },
   "outputs": [],
   "source": [
    "block_ext_id = '(-1,8000000000000000,16136943):8F47FEC07DF718A89FFA3479EC8EA68A0A53EB22F15E258BEF3718C5154D5F73:32F26ACA68A95946ACD0B4BB7ABA75E1ADB232362E8B765BA2EE7EA7CD3BFC95'\n",
    "tran_list = ton.GetTransactions(block_ext_id)\n",
    "print(block_ext_id)\n",
    "display(tran_list)\n",
    "\n",
    "for idx, tran in enumerate(tran_list):\n",
    "    chain_id = -1\n",
    "    tran_info = ton.GetTrans(block_ext_id, f\"{chain_id}:{tran['account']}\", tran['lt'])\n",
    "    display(tran['id'], tran_info)"
   ]
  },
  {
   "cell_type": "markdown",
   "id": "621ee3ed",
   "metadata": {},
   "source": [
    "# TPS, validators, shards"
   ]
  },
  {
   "cell_type": "code",
   "execution_count": null,
   "id": "3e82e99c",
   "metadata": {},
   "outputs": [],
   "source": [
    "last_block = ton.GetLastBlock()\n",
    "last_block"
   ]
  },
  {
   "cell_type": "code",
   "execution_count": null,
   "id": "d15418c8",
   "metadata": {},
   "outputs": [],
   "source": [
    "ton.GetTransactions('(-1,8000000000000000,16110296):6AF0B76A2FD2CF15F8FDF08E3BE927D38919DC89C76BB25AC4282EBA37AA7ADD:B5925025E14C70317D4FC41F3697A2C42A74FA93E18C971D41B4AD95EA4AF981')"
   ]
  },
  {
   "cell_type": "code",
   "execution_count": null,
   "id": "99c5bfc8",
   "metadata": {},
   "outputs": [],
   "source": [
    "ton.GetLastBlock()"
   ]
  },
  {
   "cell_type": "code",
   "execution_count": 37,
   "id": "b8000405",
   "metadata": {},
   "outputs": [
    {
     "name": "stdout",
     "output_type": "stream",
     "text": [
      "\u001b[35m\u001b[1m[debug]   \u001b[0m17.11.2021, 03:32:40.665 (UTC)  \u001b[32m\u001b[1m<MainThread>  \u001b[0mstart GetConfig34 function\n",
      "\u001b[35m\u001b[1m[debug]   \u001b[0m17.11.2021, 03:32:40.692 (UTC)  \u001b[32m\u001b[1m<MainThread>  \u001b[0mstart GetValidatorsLoad function (1637117900, 1637119900)\n"
     ]
    }
   ],
   "source": [
    "validators = ton.GetValidatorsList()"
   ]
  },
  {
   "cell_type": "raw",
   "id": "694f4328",
   "metadata": {},
   "source": [
    "validators"
   ]
  },
  {
   "cell_type": "code",
   "execution_count": 39,
   "id": "f01963a3",
   "metadata": {},
   "outputs": [
    {
     "data": {
      "text/plain": [
       "147"
      ]
     },
     "execution_count": 39,
     "metadata": {},
     "output_type": "execute_result"
    }
   ],
   "source": [
    "len(validators)"
   ]
  },
  {
   "cell_type": "code",
   "execution_count": 40,
   "id": "83eb94f0",
   "metadata": {},
   "outputs": [
    {
     "data": {
      "text/plain": [
       "147"
      ]
     },
     "execution_count": 40,
     "metadata": {},
     "output_type": "execute_result"
    }
   ],
   "source": [
    "len({x['adnlAddr'] for x in validators})"
   ]
  },
  {
   "cell_type": "code",
   "execution_count": null,
   "id": "f9764044",
   "metadata": {},
   "outputs": [],
   "source": [
    "ton = M.MyTonCore()\n",
    "\n",
    "\n",
    "data = {}\n",
    "data['tps'] = ton.GetStatistics('tpsAvg')[0]\n",
    "\n",
    "# block rate\n",
    "data['block_rate'] = {\n",
    "    'masterchain': 3.0,\n",
    "    'basechain': 2.0,\n",
    "}\n",
    "\n",
    "data['shardchains'] = ton.GetShardsNumber()\n",
    "\n",
    "# validators\n",
    "validators = ton.GetValidatorsList()\n",
    "validators_total = len(validators)\n",
    "validators_online = len(list(filter(lambda x: x['online'], validators)))\n",
    "data['validators'] = {\n",
    "    'online': validators_online,\n",
    "    'total': validators_total\n",
    "}\n",
    "\n",
    "data"
   ]
  },
  {
   "cell_type": "markdown",
   "id": "3c1ff5ca",
   "metadata": {},
   "source": [
    "# dht servers"
   ]
  },
  {
   "cell_type": "raw",
   "id": "e06329a0",
   "metadata": {},
   "source": [
    "import socket\n",
    "import struct\n",
    "import json\n",
    "from loguru import logger\n",
    "from tcp_latency import measure_latency\n",
    "\n",
    "\n",
    "def ip2int(addr):\n",
    "    return struct.unpack(\"!i\", socket.inet_aton(addr))[0]\n",
    "\n",
    "\n",
    "def int2ip(addr):\n",
    "    return socket.inet_ntoa(struct.pack(\"!i\", addr))"
   ]
  },
  {
   "cell_type": "raw",
   "id": "572d8058",
   "metadata": {
    "scrolled": false
   },
   "source": [
    "# Считать список серверов\n",
    "filePath = ton.liteClient.configPath\n",
    "file = open(filePath, 'rt')\n",
    "text = file.read()\n",
    "file.close()\n",
    "data = json.loads(text)\n",
    "dhts = data['dht']\n",
    "\n",
    "dht_servers = []\n",
    "for dht in dhts['static_nodes']['nodes']:\n",
    "    addr_dict = dht['addr_list']['addrs'][0]\n",
    "    if len(dht['addr_list']['addrs']) > 1:\n",
    "        logger.warning(\"WARNING, more than 1 address!\")\n",
    "    \n",
    "    ip = int2ip(addr_dict['ip'])\n",
    "    port = addr_dict['port']\n",
    "    addr = f\"{ip}:{port}\"\n",
    "    if ip == \"127.0.0.1\":\n",
    "        continue\n",
    "        \n",
    "    # ping\n",
    "    runs = 5\n",
    "    resp = measure_latency(addr, runs=runs, wait=0, timeout=5)\n",
    "    resp = [x for x in resp if x is not None]\n",
    "    if len(resp) > 0:\n",
    "        resp_time = sum(resp) / len(resp)\n",
    "        available = True\n",
    "    else:\n",
    "        resp_time = None\n",
    "        available = '?'\n",
    "    \n",
    "    loc = {'addr': addr, 'available': '?', 'response_time': resp_time}\n",
    "    dht_servers.append(loc)\n",
    "dht_servers"
   ]
  },
  {
   "cell_type": "markdown",
   "id": "12c990dd",
   "metadata": {},
   "source": [
    "# check liteservers"
   ]
  },
  {
   "cell_type": "raw",
   "id": "b90c7ccb",
   "metadata": {},
   "source": [
    "ton.liteClient.pubkeyPath\n",
    "# '/var/ton-work/keys/liteserver.pub'"
   ]
  },
  {
   "cell_type": "code",
   "execution_count": null,
   "id": "84ca9866",
   "metadata": {
    "scrolled": false
   },
   "outputs": [],
   "source": [
    "# Считать список серверов\n",
    "filePath = ton.liteClient.configPath\n",
    "file = open(filePath, 'rt')\n",
    "text = file.read()\n",
    "file.close()\n",
    "data = json.loads(text)\n",
    "\n",
    "# Пройтись по серверам\n",
    "result = list()\n",
    "liteservers = data.get(\"liteservers\")\n",
    "for index, server in enumerate(liteservers):\n",
    "    ip = int2ip(server['ip'])\n",
    "    port = server['port']\n",
    "    addr = f\"{ip}:{port}\"\n",
    "    \n",
    "    # working\n",
    "    working = False\n",
    "    try:\n",
    "        ton.liteClient.Run(\"last\", index=index)\n",
    "        working = True\n",
    "    except: pass\n",
    "    \n",
    "    # ping\n",
    "    if working:\n",
    "        runs = 10\n",
    "        resp_time = measure_latency(ip, port=port, runs=runs, wait=0)\n",
    "        ping = sum(resp_time) / runs\n",
    "    else:\n",
    "        ping = None\n",
    "    \n",
    "    # status\n",
    "    try:\n",
    "        resp = ton.liteClient.Run(\"last\", index=index)\n",
    "        if 'sync' in resp:\n",
    "            print(resp)\n",
    "    except: pass\n",
    "    \n",
    "    loc = {\n",
    "        'addr': addr,\n",
    "        'working': working,\n",
    "        'response_time': ping,\n",
    "        'syncronized': 'unknown',\n",
    "    }\n",
    "    print(loc)\n",
    "    break\n",
    "    result.append(loc)\n",
    "#end for\n",
    "\n",
    "# Записать данные в базу\n",
    "result"
   ]
  },
  {
   "cell_type": "raw",
   "id": "f0277a73",
   "metadata": {},
   "source": [
    "using liteserver 0 with addr [67.207.74.182:4924]\n",
    "zerostate set to -1:17A3A92992AABEA785A7A090985A265CD31F323D849DA51239737E321FB05569:5E994FCF4D425C0A6CE6A792594B7173205F740A39CD56F537DEFD28B48A0F6E\n",
    "latest masterchain block known to server is (-1,8000000000000000,16087348):89450741017413233C2C39F32D30B54ECCE9C91F9CB6360E799BB38AFD78A3BF:3D21555FB2843BA2129CCC7535F3FD7FB7841FADDEA12A2946253944568EAFDE created at 1636926954 (7 seconds ago)\n",
    "BLK#1 = (-1,8000000000000000,16087348):89450741017413233C2C39F32D30B54ECCE9C91F9CB6360E799BB38AFD78A3BF:3D21555FB2843BA2129CCC7535F3FD7FB7841FADDEA12A2946253944568EAFDE\n",
    "BLK#2 = (-1,8000000000000000,0):17A3A92992AABEA785A7A090985A265CD31F323D849DA51239737E321FB05569:5E994FCF4D425C0A6CE6A792594B7173205F740A39CD56F537DEFD28B48A0F6E"
   ]
  },
  {
   "cell_type": "markdown",
   "id": "b4b2800a",
   "metadata": {},
   "source": [
    "# Services uptime"
   ]
  },
  {
   "cell_type": "code",
   "execution_count": null,
   "id": "9cab8b99",
   "metadata": {},
   "outputs": [],
   "source": [
    "services_list = [{'name': 'ton.sh',\n",
    "                  'api': 'https://api.ton.sh/getAddressInformation?address=EQCD39VS5jcptHL8vMjEXrzGaRcCVYto7HUn4bpAOg8xqB2N',\n",
    "                  'ip': 'https://ton.sh'},\n",
    "                 {'name': 'toncenter.com',\n",
    "                  'api': 'https://toncenter.com/api/v2/getAddressInformation?address=0QCyt4ltzak71h6XkyK4ePfZCzJQDSVUNuvZ3VE7hP_Q-GTE',\n",
    "                  'ip': 'https://toncenter.com'}]\n",
    "\n",
    "services = []\n",
    "for service in services_list:\n",
    "    name = service['name']\n",
    "    url = service['api']\n",
    "    ip = server['ip']\n",
    "    available = R.get(url, timeout=2).status_code == 200\n",
    "    loc = {'name': name, 'available': available}\n",
    "    services.append(loc)\n",
    "services"
   ]
  },
  {
   "cell_type": "markdown",
   "id": "5824e4d8",
   "metadata": {},
   "source": [
    "# Governance"
   ]
  },
  {
   "cell_type": "code",
   "execution_count": null,
   "id": "358d3602",
   "metadata": {},
   "outputs": [],
   "source": [
    "config17 = ton.GetConfig17()\n",
    "config15 = ton.GetConfig15()\n",
    "config34 = ton.GetConfig34()\n",
    "config36 = ton.GetConfig36()\n",
    "\n",
    "fullElectorAddr = ton.GetFullElectorAddr()\n",
    "\n",
    "\n",
    "# get times\n",
    "startWorkTime = ton.GetActiveElectionId(fullElectorAddr)\n",
    "election_status = \"open\"\n",
    "if startWorkTime == 0:\n",
    "    startWorkTime = config36.get(\"startWorkTime\")\n",
    "    if startWorkTime is None:\n",
    "        startWorkTime = config34.get(\"startWorkTime\")\n",
    "    election_status = \"closed\" \n",
    "\n",
    "electionsStartBefore = config15[\"electionsStartBefore\"]\n",
    "electionsEndBefore = config15[\"electionsEndBefore\"]\n",
    "validatorsElectedFor = config15[\"validatorsElectedFor\"]\n",
    "\n",
    "# compute election times\n",
    "startElection = startWorkTime - electionsStartBefore\n",
    "endElection = startWorkTime - electionsEndBefore\n",
    "startNextElection = startElection + validatorsElectedFor\n",
    "\n",
    "startElection = datetime.fromtimestamp(startElection)\n",
    "endElection = datetime.fromtimestamp(endElection)\n",
    "startNextElection = datetime.fromtimestamp(startNextElection)\n",
    "\n",
    "elections = {\n",
    "    'status': election_status,\n",
    "    'start': startElection,\n",
    "    'end': endElection,\n",
    "    'start_next': startNextElection\n",
    "}\n",
    "elections"
   ]
  },
  {
   "cell_type": "code",
   "execution_count": null,
   "id": "97c7bb37",
   "metadata": {},
   "outputs": [],
   "source": [
    "offers = ton.GetOffersNumber()\n",
    "offers_list = ton.GetOffers()\n",
    "offers['offers_list'] = offers_list\n",
    "\n",
    "offers"
   ]
  },
  {
   "cell_type": "code",
   "execution_count": null,
   "id": "007f0a14",
   "metadata": {},
   "outputs": [],
   "source": [
    "complaints = ton.GetComplaintsNumber()\n",
    "complaints_list = ton.GetComplaints()\n",
    "complaints['complaints_list'] = complaints_list\n",
    "\n",
    "complaints"
   ]
  },
  {
   "cell_type": "code",
   "execution_count": null,
   "id": "0669c83c",
   "metadata": {},
   "outputs": [],
   "source": [
    "governance = {\n",
    "    'elections': elections,\n",
    "    'offers': offers,\n",
    "    'complaints': complaints\n",
    "}\n",
    "governance"
   ]
  },
  {
   "cell_type": "markdown",
   "id": "b4f4d9df",
   "metadata": {},
   "source": [
    "# Bridge check"
   ]
  },
  {
   "cell_type": "code",
   "execution_count": null,
   "id": "b3bc1d48",
   "metadata": {},
   "outputs": [],
   "source": [
    "from bs4 import BeautifulSoup\n",
    "\n",
    "\n",
    "bridge_list = [{'name': 'ton-eth','url': 'https://ton.org/bridge/', \n",
    "                'address': 'Ef_dJMSh8riPi3BTUTtcxsWjG8RLKnLctNjAM4rw8NN-xWdr'},\n",
    "               {'name': 'ton-bsc', 'url': 'https://ton.org/bridge/bsc', \n",
    "                'address': 'Ef9NXAIQs12t2qIZ-sRZ26D977H65Ol6DQeXc5_gUNaUys5r'},\n",
    "               {'name': 'ton-other', 'url': 'https://ton.org/bridge/exmo', \n",
    "                'address': ''}]\n",
    "\n",
    "bridges = []\n",
    "for bridge_dict in bridge_list:\n",
    "    resp = R.get(bridge_dict['url'])\n",
    "    \n",
    "    # web page status\n",
    "    web_page_status = 'not available'\n",
    "    if resp.status_code == 200:\n",
    "        page = BeautifulSoup(resp.content, features=\"html.parser\")\n",
    "        button = page.find_all(attrs={'id': ['transferButton']})\n",
    "        if len(button) > 0:\n",
    "            web_page_status = 'available'\n",
    "            \n",
    "    # api status\n",
    "    smart_contract_state = None\n",
    "    if bridge_dict['address']:\n",
    "        cmd = 'runmethod {address} get_bridge_data'.format(**bridge_dict)\n",
    "        resp = ton.liteClient.Run(cmd)\n",
    "        for row in resp.split('\\n'):\n",
    "            if 'result:' in row and '[' in row:\n",
    "                row = row[row.find('[')+1:row.find(']')].strip()\n",
    "                row = row.split()\n",
    "                if len(row) > 0:\n",
    "                    smart_contract_state = int(row[0])\n",
    "    bridges.append({\n",
    "        'name': bridge_dict['name'],\n",
    "        'url': bridge_dict['url'],\n",
    "        'web_page_status': web_page_status,\n",
    "        'smart_contract_state': smart_contract_state\n",
    "    })\n",
    "bridges"
   ]
  },
  {
   "cell_type": "raw",
   "id": "7fe00546",
   "metadata": {},
   "source": [
    "headers = {'Cache-Control': 'no-store, max-age=0'}\n",
    "resp = R.get('https://ton.org/bridge/WTON.json', headers=headers)\n",
    "resp.content"
   ]
  },
  {
   "cell_type": "markdown",
   "id": "ce3c5eef",
   "metadata": {},
   "source": [
    "# Backup"
   ]
  },
  {
   "cell_type": "raw",
   "id": "bfbf8f21",
   "metadata": {},
   "source": [
    "compliants = {'5886D080A7E674185049A64731C18AC206EC9805B0A4AA04978C372E7362E9FC1636931207': {'electionId': 1636931207, 'hash': 88903245105450268155828300227938303043764880885251014972808249943758051051572, 'pubkey': '5886D080A7E674185049A64731C18AC206EC9805B0A4AA04978C372E7362E9FC', 'adnl': 'CE24CAA1E86E1DA7914E0755D3E0D6B6BCB3A0228BBE73EAFD6C481ADA2020BF', 'description': 'C{1311944D9EBD5A90B0A529ACD07B95C727E7F62F19D1BB50A8D78384F2008DAF}', 'createdTime': 1636997292, 'severity': 2, 'rewardAddr': 'Ef9X6ObXojpUZza3NiS2TnRJ4KR7ler8cOjMRBt_swy4Qp2j', 'paid': 73042518866, 'suggestedFine': 101.0, 'suggestedFinePart': 0, 'votedValidators': [0, 1, 2, 3, 4, 5, 6, 7, 8, 9, 10, 11, 12, 13, 14, 15, 16, 17, 18, 19, 20, 21, 22, 23, 24, 25, 26, 27, 28, 29, 30, 31, 32, 33, 34, 35, 36, 37, 38, 39, 40, 41, 42, 43, 44, 45, 46, 47, 48, 49, 51, 52, 56, 57, 58, 59, 60, 61, 62, 63, 64, 65, 66, 67, 68, 69, 70, 71, 72, 76, 77, 78, 79, 80, 81, 82, 83, 84, 85, 86, 87, 88, 89, 90, 91, 92, 93, 94, 95, 96, 97, 98, 99, 100, 101, 102, 103, 104, 105, 106, 107, 108, 109, 110, 111, 112, 113, 114, 115, 118, 119, 120, 121, 122, 123, 124, 125, 126, 127, 128, 129, 130, 131, 132, 133, 134, 135, 136, 137, 138, 139, 140, 141, 142, 143, 144, 145], 'vsetId': 64678447710026207407772909170541134184282031556077784503273728435917568495010, 'weightRemaining': -306574679488018302, 'approvedPercent': 93.258, 'isPassed': True, 'pseudohash': '5886D080A7E674185049A64731C18AC206EC9805B0A4AA04978C372E7362E9FC1636931207'}, '968F4A6377F00F5FEEB618245741413EE4338D600CBC898A4D1BC460983E21D41636931207': {'electionId': 1636931207, 'hash': 64444557146890258920289842626623123286106217351764173254597531087899554543592, 'pubkey': '968F4A6377F00F5FEEB618245741413EE4338D600CBC898A4D1BC460983E21D4', 'adnl': '024F431A8A9C684D3D4051D12602434349B7FD92E06A76CA85ACAC098D9C4078', 'description': 'C{B9F9F210741EFA65523283F76273C2C2D0FB3B00A70259743E9F5128B3925E59}', 'createdTime': 1636997306, 'severity': 2, 'rewardAddr': 'Ef_COrB2c9Sm41aVhq54CotaTZJ55_3iDApuMkrBmGRiJ3RF', 'paid': 72760748424, 'suggestedFine': 101.0, 'suggestedFinePart': 0, 'votedValidators': [0, 1, 2, 3, 4, 5, 6, 7, 8, 9, 10, 11, 12, 13, 14, 15, 16, 17, 18, 19, 20, 21, 22, 23, 24, 25, 26, 27, 28, 29, 30, 31, 32, 33, 34, 35, 36, 37, 38, 39, 40, 41, 42, 43, 44, 45, 46, 47, 48, 49, 51, 52, 56, 57, 58, 59, 60, 61, 62, 63, 64, 65, 66, 67, 68, 69, 70, 71, 72, 76, 77, 78, 80, 81, 82, 83, 84, 85, 86, 87, 88, 89, 90, 91, 92, 93, 94, 95, 96, 97, 98, 99, 100, 101, 102, 103, 104, 105, 106, 107, 108, 109, 110, 111, 112, 113, 114, 115, 118, 119, 120, 121, 122, 123, 124, 125, 126, 127, 128, 129, 130, 131, 132, 133, 134, 135, 136, 137, 138, 139, 140, 141, 142, 143, 144, 145], 'vsetId': 64678447710026207407772909170541134184282031556077784503273728435917568495010, 'weightRemaining': -298690205470328106, 'approvedPercent': 92.574, 'isPassed': True, 'pseudohash': '968F4A6377F00F5FEEB618245741413EE4338D600CBC898A4D1BC460983E21D41636931207'}}\n",
    "print(compliants)"
   ]
  },
  {
   "cell_type": "markdown",
   "id": "6b4f9a96",
   "metadata": {},
   "source": [
    "# OLD"
   ]
  },
  {
   "cell_type": "code",
   "execution_count": null,
   "id": "630bc682",
   "metadata": {},
   "outputs": [],
   "source": [
    "lite = M.LiteClient()"
   ]
  },
  {
   "cell_type": "code",
   "execution_count": null,
   "id": "730e999a",
   "metadata": {},
   "outputs": [],
   "source": [
    "ton.GetConfig12()"
   ]
  },
  {
   "cell_type": "code",
   "execution_count": null,
   "id": "9754054e",
   "metadata": {},
   "outputs": [],
   "source": [
    "ton.GetConfig15()"
   ]
  },
  {
   "cell_type": "raw",
   "id": "12a117c8",
   "metadata": {
    "scrolled": false
   },
   "source": [
    "config = {}\n",
    "for i in range(40):\n",
    "    config[i] = ton.GetConfig(i)\n",
    "config"
   ]
  },
  {
   "cell_type": "code",
   "execution_count": null,
   "id": "8f83adc7",
   "metadata": {},
   "outputs": [],
   "source": [
    "config36 = ton.GetConfig36()\n",
    "config36"
   ]
  },
  {
   "cell_type": "code",
   "execution_count": null,
   "id": "5d0fe08e",
   "metadata": {},
   "outputs": [],
   "source": [
    "shardsNumber = ton.GetShardsNumber()\n",
    "print('shards_number:', shardsNumber)"
   ]
  },
  {
   "cell_type": "code",
   "execution_count": null,
   "id": "b825691f",
   "metadata": {},
   "outputs": [],
   "source": []
  },
  {
   "cell_type": "code",
   "execution_count": null,
   "id": "30dc956c",
   "metadata": {},
   "outputs": [],
   "source": [
    "online_validators = ton.GetOnlineValidators()\n",
    "validator_efficiency = ton.GetValidatorEfficiency()"
   ]
  },
  {
   "cell_type": "raw",
   "id": "a898efe1",
   "metadata": {},
   "source": [
    "validator_status = ton.GetValidatorStatus()\n",
    "validator_status"
   ]
  },
  {
   "cell_type": "code",
   "execution_count": null,
   "id": "5877612d",
   "metadata": {},
   "outputs": [],
   "source": [
    "config15 = ton.GetConfig15()\n",
    "config17 = ton.GetConfig17()"
   ]
  },
  {
   "cell_type": "code",
   "execution_count": null,
   "id": "bf5ee92f",
   "metadata": {},
   "outputs": [],
   "source": [
    "statistics = ton.GetSettings(\"statistics\")\n",
    "statistics"
   ]
  },
  {
   "cell_type": "code",
   "execution_count": null,
   "id": "dfbc8040",
   "metadata": {},
   "outputs": [],
   "source": [
    "rootWorkchainEnabledTime_int = ton.GetRootWorkchainEnabledTime()\n",
    "rootWorkchainEnabledTime_int"
   ]
  },
  {
   "cell_type": "code",
   "execution_count": null,
   "id": "ed88feb4",
   "metadata": {
    "scrolled": false
   },
   "outputs": [],
   "source": [
    "validators_info = ton.GetValidatorsLoad()\n",
    "validators_info[0]"
   ]
  },
  {
   "cell_type": "code",
   "execution_count": null,
   "id": "cf23ceea",
   "metadata": {},
   "outputs": [],
   "source": [
    "compliants_info = ton.GetComplaints()\n",
    "compliants_info"
   ]
  },
  {
   "cell_type": "code",
   "execution_count": null,
   "id": "34bac273",
   "metadata": {},
   "outputs": [],
   "source": [
    "ton.GetAdnlAddr()"
   ]
  },
  {
   "cell_type": "code",
   "execution_count": null,
   "id": "8cd36113",
   "metadata": {},
   "outputs": [],
   "source": [
    "statistics = ton.GetSettings(\"statistics\")\n",
    "tpsAvg = ton.GetStatistics(\"tpsAvg\", statistics)\n",
    "netLoadAvg = ton.GetStatistics(\"netLoadAvg\", statistics)\n",
    "disksLoadAvg = ton.GetStatistics(\"disksLoadAvg\", statistics)\n",
    "disksLoadPercentAvg = ton.GetStatistics(\"disksLoadPercentAvg\", statistics)\n",
    "\n",
    "statistics"
   ]
  },
  {
   "cell_type": "code",
   "execution_count": null,
   "id": "4e34273f",
   "metadata": {},
   "outputs": [],
   "source": [
    "def PrintStatus(args):\n",
    "    opt = None\n",
    "    if len(args) == 1:\n",
    "        opt = args[0]\n",
    "    rootWorkchainEnabledTime_int = ton.GetRootWorkchainEnabledTime()\n",
    "    config34 = ton.GetConfig34()\n",
    "    config36 = ton.GetConfig36()\n",
    "    totalValidators = config34[\"totalValidators\"]\n",
    "    onlineValidators = None\n",
    "    validatorEfficiency = None\n",
    "    if opt != \"fast\":\n",
    "        onlineValidators = ton.GetOnlineValidators()\n",
    "        validatorEfficiency = ton.GetValidatorEfficiency()\n",
    "    if onlineValidators:\n",
    "        onlineValidators = len(onlineValidators)\n",
    "    oldStartWorkTime = config36.get(\"startWorkTime\")\n",
    "    if oldStartWorkTime is None:\n",
    "        oldStartWorkTime = config34.get(\"startWorkTime\")\n",
    "    shardsNumber = ton.GetShardsNumber()\n",
    "    validatorStatus = ton.GetValidatorStatus()\n",
    "    config15 = ton.GetConfig15()\n",
    "    config17 = ton.GetConfig17()\n",
    "    fullConfigAddr = ton.GetFullConfigAddr()\n",
    "    fullElectorAddr = ton.GetFullElectorAddr()\n",
    "    startWorkTime = ton.GetActiveElectionId(fullElectorAddr)\n",
    "    validatorIndex = ton.GetValidatorIndex()\n",
    "    validatorWallet = ton.GetLocalWallet(ton.validatorWalletName)\n",
    "    dbSize = ton.GetDbSize()\n",
    "    offersNumber = ton.GetOffersNumber()\n",
    "    complaintsNumber = ton.GetComplaintsNumber()\n",
    "    statistics = ton.GetSettings(\"statistics\")\n",
    "    tpsAvg = ton.GetStatistics(\"tpsAvg\", statistics)\n",
    "    netLoadAvg = ton.GetStatistics(\"netLoadAvg\", statistics)\n",
    "    disksLoadAvg = ton.GetStatistics(\"disksLoadAvg\", statistics)\n",
    "    disksLoadPercentAvg = ton.GetStatistics(\"disksLoadPercentAvg\", statistics)\n",
    "    if validatorWallet is not None:\n",
    "        validatorAccount = ton.GetAccount(validatorWallet.addr)\n",
    "    else:\n",
    "        validatorAccount = None\n",
    "    PrintTonStatus(startWorkTime, totalValidators, onlineValidators, shardsNumber, offersNumber, complaintsNumber, tpsAvg)\n",
    "    PrintLocalStatus(validatorIndex, validatorEfficiency, validatorWallet, validatorAccount, validatorStatus, dbSize, netLoadAvg, disksLoadAvg, disksLoadPercentAvg)\n",
    "    PrintTonConfig(fullConfigAddr, fullElectorAddr, config15, config17)\n",
    "    PrintTimes(rootWorkchainEnabledTime_int, startWorkTime, oldStartWorkTime, config15)"
   ]
  }
 ],
 "metadata": {
  "kernelspec": {
   "display_name": "Python 3 (ipykernel)",
   "language": "python",
   "name": "python3"
  },
  "language_info": {
   "codemirror_mode": {
    "name": "ipython",
    "version": 3
   },
   "file_extension": ".py",
   "mimetype": "text/x-python",
   "name": "python",
   "nbconvert_exporter": "python",
   "pygments_lexer": "ipython3",
   "version": "3.8.10"
  }
 },
 "nbformat": 4,
 "nbformat_minor": 5
}
