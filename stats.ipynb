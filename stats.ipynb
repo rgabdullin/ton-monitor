{
 "cells": [
  {
   "cell_type": "code",
   "execution_count": 233,
   "id": "7dce4542",
   "metadata": {},
   "outputs": [],
   "source": [
    "import sys\n",
    "sys.path.insert(0, '/usr/src/mytonctrl')"
   ]
  },
  {
   "cell_type": "code",
   "execution_count": 2,
   "id": "45df1df1",
   "metadata": {},
   "outputs": [],
   "source": [
    "import requests as R\n",
    "import mytonctrl as M\n",
    "\n",
    "\n",
    "from datetime import datetime"
   ]
  },
  {
   "cell_type": "markdown",
   "id": "dc624f7f",
   "metadata": {},
   "source": [
    "# reset database"
   ]
  },
  {
   "cell_type": "code",
   "execution_count": 304,
   "id": "08f6542d",
   "metadata": {},
   "outputs": [
    {
     "name": "stdout",
     "output_type": "stream",
     "text": [
      "governance\n",
      "ton_bridges\n",
      "ton_apis\n",
      "liteservers\n",
      "network_stats\n"
     ]
    }
   ],
   "source": [
    "from backend.data.mongodb import get_database\n",
    "db = get_database('ton_monitor_debug')\n",
    "for collection in db.list_collection_names():\n",
    "    db.drop_collection(collection)\n",
    "    print(collection)"
   ]
  },
  {
   "cell_type": "markdown",
   "id": "621ee3ed",
   "metadata": {},
   "source": [
    "# TPS, validators, shards"
   ]
  },
  {
   "cell_type": "code",
   "execution_count": 249,
   "id": "3e82e99c",
   "metadata": {},
   "outputs": [
    {
     "data": {
      "text/plain": [
       "'(-1,8000000000000000,16110318):B312495457F1E34A04133051350A91474E0C370117D5AF6E67CB69AF70BC1E60:AF44CE2552D016EEC342DB83AA3EA80815DF4F6DEB7B194C44EC74E1481465AD'"
      ]
     },
     "execution_count": 249,
     "metadata": {},
     "output_type": "execute_result"
    }
   ],
   "source": [
    "last_block = ton.GetLastBlock()\n",
    "last_block"
   ]
  },
  {
   "cell_type": "code",
   "execution_count": 248,
   "id": "d15418c8",
   "metadata": {},
   "outputs": [
    {
     "data": {
      "text/plain": [
       "[{'id': '1',\n",
       "  'account': '3333333333333333333333333333333333333333333333333333333333333333',\n",
       "  'lt': '23025745000001',\n",
       "  'hash': 'B97BF57F4F4C8CC418D5AF1C6E3AD79A122D7814CA574285E262E290B110FF9F'},\n",
       " {'id': '2',\n",
       "  'account': '3333333333333333333333333333333333333333333333333333333333333333',\n",
       "  'lt': '23025745000002',\n",
       "  'hash': '991B7074F812BAF8ACC9F09661AFBE58B376239B303E2B1CF8954100279843FA'},\n",
       " {'id': '3',\n",
       "  'account': '34517C7BDF5187C55AF4F8B61FDC321588C7AB768DEE24B006DF29106458D7CF',\n",
       "  'lt': '23025745000001',\n",
       "  'hash': '802AC471ABA796C1294E6866B460462B2746E76694A227A9504BB21C2D61F501'},\n",
       " {'id': '4',\n",
       "  'account': '34517C7BDF5187C55AF4F8B61FDC321588C7AB768DEE24B006DF29106458D7CF',\n",
       "  'lt': '23025745000003',\n",
       "  'hash': 'E0258CF2E56887FA2739D5399F4746C2B2D57996515700476F7AF8E8CDACBDAB'},\n",
       " {'id': '5',\n",
       "  'account': '5555555555555555555555555555555555555555555555555555555555555555',\n",
       "  'lt': '23025745000003',\n",
       "  'hash': '575A67A4E3E15B57BA475F0CECB1F5B8CA505F89C539927010338FE56777770F'}]"
      ]
     },
     "execution_count": 248,
     "metadata": {},
     "output_type": "execute_result"
    }
   ],
   "source": [
    "ton.GetTransactions('(-1,8000000000000000,16110296):6AF0B76A2FD2CF15F8FDF08E3BE927D38919DC89C76BB25AC4282EBA37AA7ADD:B5925025E14C70317D4FC41F3697A2C42A74FA93E18C971D41B4AD95EA4AF981')"
   ]
  },
  {
   "cell_type": "code",
   "execution_count": 246,
   "id": "99c5bfc8",
   "metadata": {},
   "outputs": [
    {
     "data": {
      "text/plain": [
       "'(-1,8000000000000000,16110296):6AF0B76A2FD2CF15F8FDF08E3BE927D38919DC89C76BB25AC4282EBA37AA7ADD:B5925025E14C70317D4FC41F3697A2C42A74FA93E18C971D41B4AD95EA4AF981'"
      ]
     },
     "execution_count": 246,
     "metadata": {},
     "output_type": "execute_result"
    }
   ],
   "source": [
    "ton.GetLastBlock()"
   ]
  },
  {
   "cell_type": "code",
   "execution_count": 15,
   "id": "f9764044",
   "metadata": {},
   "outputs": [
    {
     "data": {
      "text/plain": [
       "{'tps': 1.3,\n",
       " 'block_rate': {'masterchain': 3.0, 'basechain': 2.0},\n",
       " 'shardchains': 1,\n",
       " 'validators': {'online': 124, 'total': 139}}"
      ]
     },
     "execution_count": 15,
     "metadata": {},
     "output_type": "execute_result"
    }
   ],
   "source": [
    "ton = M.MyTonCore()\n",
    "\n",
    "\n",
    "data = {}\n",
    "data['tps'] = ton.GetStatistics('tpsAvg')[0]\n",
    "\n",
    "# block rate\n",
    "data['block_rate'] = {\n",
    "    'masterchain': 3.0,\n",
    "    'basechain': 2.0,\n",
    "}\n",
    "\n",
    "data['shardchains'] = ton.GetShardsNumber()\n",
    "\n",
    "# validators\n",
    "validators = ton.GetValidatorsList()\n",
    "validators_total = len(validators)\n",
    "validators_online = len(list(filter(lambda x: x['online'], validators)))\n",
    "data['validators'] = {\n",
    "    'online': validators_online,\n",
    "    'total': validators_total\n",
    "}\n",
    "\n",
    "data"
   ]
  },
  {
   "cell_type": "markdown",
   "id": "3c1ff5ca",
   "metadata": {},
   "source": [
    "# dht servers"
   ]
  },
  {
   "cell_type": "raw",
   "id": "e06329a0",
   "metadata": {},
   "source": [
    "import socket\n",
    "import struct\n",
    "import json\n",
    "from loguru import logger\n",
    "from tcp_latency import measure_latency\n",
    "\n",
    "\n",
    "def ip2int(addr):\n",
    "    return struct.unpack(\"!i\", socket.inet_aton(addr))[0]\n",
    "\n",
    "\n",
    "def int2ip(addr):\n",
    "    return socket.inet_ntoa(struct.pack(\"!i\", addr))"
   ]
  },
  {
   "cell_type": "raw",
   "id": "572d8058",
   "metadata": {
    "scrolled": false
   },
   "source": [
    "# Считать список серверов\n",
    "filePath = ton.liteClient.configPath\n",
    "file = open(filePath, 'rt')\n",
    "text = file.read()\n",
    "file.close()\n",
    "data = json.loads(text)\n",
    "dhts = data['dht']\n",
    "\n",
    "dht_servers = []\n",
    "for dht in dhts['static_nodes']['nodes']:\n",
    "    addr_dict = dht['addr_list']['addrs'][0]\n",
    "    if len(dht['addr_list']['addrs']) > 1:\n",
    "        logger.warning(\"WARNING, more than 1 address!\")\n",
    "    \n",
    "    ip = int2ip(addr_dict['ip'])\n",
    "    port = addr_dict['port']\n",
    "    addr = f\"{ip}:{port}\"\n",
    "    if ip == \"127.0.0.1\":\n",
    "        continue\n",
    "        \n",
    "    # ping\n",
    "    runs = 5\n",
    "    resp = measure_latency(addr, runs=runs, wait=0, timeout=5)\n",
    "    resp = [x for x in resp if x is not None]\n",
    "    if len(resp) > 0:\n",
    "        resp_time = sum(resp) / len(resp)\n",
    "        available = True\n",
    "    else:\n",
    "        resp_time = None\n",
    "        available = '?'\n",
    "    \n",
    "    loc = {'addr': addr, 'available': '?', 'response_time': resp_time}\n",
    "    dht_servers.append(loc)\n",
    "dht_servers"
   ]
  },
  {
   "cell_type": "markdown",
   "id": "12c990dd",
   "metadata": {},
   "source": [
    "# check liteservers"
   ]
  },
  {
   "cell_type": "raw",
   "id": "b90c7ccb",
   "metadata": {},
   "source": [
    "ton.liteClient.pubkeyPath\n",
    "# '/var/ton-work/keys/liteserver.pub'"
   ]
  },
  {
   "cell_type": "code",
   "execution_count": 234,
   "id": "84ca9866",
   "metadata": {
    "scrolled": false
   },
   "outputs": [
    {
     "name": "stdout",
     "output_type": "stream",
     "text": [
      "{'addr': '67.207.74.182:4924', 'working': True, 'response_time': 47.36347198486328, 'syncronized': 'unknown'}\n"
     ]
    },
    {
     "data": {
      "text/plain": [
       "[]"
      ]
     },
     "execution_count": 234,
     "metadata": {},
     "output_type": "execute_result"
    }
   ],
   "source": [
    "# Считать список серверов\n",
    "filePath = ton.liteClient.configPath\n",
    "file = open(filePath, 'rt')\n",
    "text = file.read()\n",
    "file.close()\n",
    "data = json.loads(text)\n",
    "\n",
    "# Пройтись по серверам\n",
    "result = list()\n",
    "liteservers = data.get(\"liteservers\")\n",
    "for index, server in enumerate(liteservers):\n",
    "    ip = int2ip(server['ip'])\n",
    "    port = server['port']\n",
    "    addr = f\"{ip}:{port}\"\n",
    "    \n",
    "    # working\n",
    "    working = False\n",
    "    try:\n",
    "        ton.liteClient.Run(\"last\", index=index)\n",
    "        working = True\n",
    "    except: pass\n",
    "    \n",
    "    # ping\n",
    "    if working:\n",
    "        runs = 10\n",
    "        resp_time = measure_latency(ip, port=port, runs=runs, wait=0)\n",
    "        ping = sum(resp_time) / runs\n",
    "    else:\n",
    "        ping = None\n",
    "    \n",
    "    # status\n",
    "    try:\n",
    "        resp = ton.liteClient.Run(\"last\", index=index)\n",
    "        if 'sync' in resp:\n",
    "            print(resp)\n",
    "    except: pass\n",
    "    \n",
    "    loc = {\n",
    "        'addr': addr,\n",
    "        'working': working,\n",
    "        'response_time': ping,\n",
    "        'syncronized': 'unknown',\n",
    "    }\n",
    "    print(loc)\n",
    "    break\n",
    "    result.append(loc)\n",
    "#end for\n",
    "\n",
    "# Записать данные в базу\n",
    "result"
   ]
  },
  {
   "cell_type": "raw",
   "id": "f0277a73",
   "metadata": {},
   "source": [
    "using liteserver 0 with addr [67.207.74.182:4924]\n",
    "zerostate set to -1:17A3A92992AABEA785A7A090985A265CD31F323D849DA51239737E321FB05569:5E994FCF4D425C0A6CE6A792594B7173205F740A39CD56F537DEFD28B48A0F6E\n",
    "latest masterchain block known to server is (-1,8000000000000000,16087348):89450741017413233C2C39F32D30B54ECCE9C91F9CB6360E799BB38AFD78A3BF:3D21555FB2843BA2129CCC7535F3FD7FB7841FADDEA12A2946253944568EAFDE created at 1636926954 (7 seconds ago)\n",
    "BLK#1 = (-1,8000000000000000,16087348):89450741017413233C2C39F32D30B54ECCE9C91F9CB6360E799BB38AFD78A3BF:3D21555FB2843BA2129CCC7535F3FD7FB7841FADDEA12A2946253944568EAFDE\n",
    "BLK#2 = (-1,8000000000000000,0):17A3A92992AABEA785A7A090985A265CD31F323D849DA51239737E321FB05569:5E994FCF4D425C0A6CE6A792594B7173205F740A39CD56F537DEFD28B48A0F6E"
   ]
  },
  {
   "cell_type": "markdown",
   "id": "b4b2800a",
   "metadata": {},
   "source": [
    "# Services uptime"
   ]
  },
  {
   "cell_type": "code",
   "execution_count": 263,
   "id": "9cab8b99",
   "metadata": {},
   "outputs": [
    {
     "ename": "TypeError",
     "evalue": "request() got an unexpected keyword argument 'timeouts'",
     "output_type": "error",
     "traceback": [
      "\u001b[0;31m---------------------------------------------------------------------------\u001b[0m",
      "\u001b[0;31mTypeError\u001b[0m                                 Traceback (most recent call last)",
      "\u001b[0;32m/tmp/ipykernel_672152/3519296070.py\u001b[0m in \u001b[0;36m<module>\u001b[0;34m\u001b[0m\n\u001b[1;32m     11\u001b[0m     \u001b[0murl\u001b[0m \u001b[0;34m=\u001b[0m \u001b[0mservice\u001b[0m\u001b[0;34m[\u001b[0m\u001b[0;34m'api'\u001b[0m\u001b[0;34m]\u001b[0m\u001b[0;34m\u001b[0m\u001b[0;34m\u001b[0m\u001b[0m\n\u001b[1;32m     12\u001b[0m     \u001b[0mip\u001b[0m \u001b[0;34m=\u001b[0m \u001b[0mserver\u001b[0m\u001b[0;34m[\u001b[0m\u001b[0;34m'ip'\u001b[0m\u001b[0;34m]\u001b[0m\u001b[0;34m\u001b[0m\u001b[0;34m\u001b[0m\u001b[0m\n\u001b[0;32m---> 13\u001b[0;31m     \u001b[0mavailable\u001b[0m \u001b[0;34m=\u001b[0m \u001b[0mR\u001b[0m\u001b[0;34m.\u001b[0m\u001b[0mget\u001b[0m\u001b[0;34m(\u001b[0m\u001b[0murl\u001b[0m\u001b[0;34m,\u001b[0m \u001b[0mtimeouts\u001b[0m\u001b[0;34m=\u001b[0m\u001b[0;36m2\u001b[0m\u001b[0;34m)\u001b[0m\u001b[0;34m.\u001b[0m\u001b[0mstatus_code\u001b[0m \u001b[0;34m==\u001b[0m \u001b[0;36m200\u001b[0m\u001b[0;34m\u001b[0m\u001b[0;34m\u001b[0m\u001b[0m\n\u001b[0m\u001b[1;32m     14\u001b[0m     \u001b[0mloc\u001b[0m \u001b[0;34m=\u001b[0m \u001b[0;34m{\u001b[0m\u001b[0;34m'name'\u001b[0m\u001b[0;34m:\u001b[0m \u001b[0mname\u001b[0m\u001b[0;34m,\u001b[0m \u001b[0;34m'available'\u001b[0m\u001b[0;34m:\u001b[0m \u001b[0mavailable\u001b[0m\u001b[0;34m}\u001b[0m\u001b[0;34m\u001b[0m\u001b[0;34m\u001b[0m\u001b[0m\n\u001b[1;32m     15\u001b[0m     \u001b[0mservices\u001b[0m\u001b[0;34m.\u001b[0m\u001b[0mappend\u001b[0m\u001b[0;34m(\u001b[0m\u001b[0mloc\u001b[0m\u001b[0;34m)\u001b[0m\u001b[0;34m\u001b[0m\u001b[0;34m\u001b[0m\u001b[0m\n",
      "\u001b[0;32m/usr/lib/python3/dist-packages/requests/api.py\u001b[0m in \u001b[0;36mget\u001b[0;34m(url, params, **kwargs)\u001b[0m\n\u001b[1;32m     73\u001b[0m \u001b[0;34m\u001b[0m\u001b[0m\n\u001b[1;32m     74\u001b[0m     \u001b[0mkwargs\u001b[0m\u001b[0;34m.\u001b[0m\u001b[0msetdefault\u001b[0m\u001b[0;34m(\u001b[0m\u001b[0;34m'allow_redirects'\u001b[0m\u001b[0;34m,\u001b[0m \u001b[0;32mTrue\u001b[0m\u001b[0;34m)\u001b[0m\u001b[0;34m\u001b[0m\u001b[0;34m\u001b[0m\u001b[0m\n\u001b[0;32m---> 75\u001b[0;31m     \u001b[0;32mreturn\u001b[0m \u001b[0mrequest\u001b[0m\u001b[0;34m(\u001b[0m\u001b[0;34m'get'\u001b[0m\u001b[0;34m,\u001b[0m \u001b[0murl\u001b[0m\u001b[0;34m,\u001b[0m \u001b[0mparams\u001b[0m\u001b[0;34m=\u001b[0m\u001b[0mparams\u001b[0m\u001b[0;34m,\u001b[0m \u001b[0;34m**\u001b[0m\u001b[0mkwargs\u001b[0m\u001b[0;34m)\u001b[0m\u001b[0;34m\u001b[0m\u001b[0;34m\u001b[0m\u001b[0m\n\u001b[0m\u001b[1;32m     76\u001b[0m \u001b[0;34m\u001b[0m\u001b[0m\n\u001b[1;32m     77\u001b[0m \u001b[0;34m\u001b[0m\u001b[0m\n",
      "\u001b[0;32m/usr/lib/python3/dist-packages/requests/api.py\u001b[0m in \u001b[0;36mrequest\u001b[0;34m(method, url, **kwargs)\u001b[0m\n\u001b[1;32m     58\u001b[0m     \u001b[0;31m# cases, and look like a memory leak in others.\u001b[0m\u001b[0;34m\u001b[0m\u001b[0;34m\u001b[0m\u001b[0;34m\u001b[0m\u001b[0m\n\u001b[1;32m     59\u001b[0m     \u001b[0;32mwith\u001b[0m \u001b[0msessions\u001b[0m\u001b[0;34m.\u001b[0m\u001b[0mSession\u001b[0m\u001b[0;34m(\u001b[0m\u001b[0;34m)\u001b[0m \u001b[0;32mas\u001b[0m \u001b[0msession\u001b[0m\u001b[0;34m:\u001b[0m\u001b[0;34m\u001b[0m\u001b[0;34m\u001b[0m\u001b[0m\n\u001b[0;32m---> 60\u001b[0;31m         \u001b[0;32mreturn\u001b[0m \u001b[0msession\u001b[0m\u001b[0;34m.\u001b[0m\u001b[0mrequest\u001b[0m\u001b[0;34m(\u001b[0m\u001b[0mmethod\u001b[0m\u001b[0;34m=\u001b[0m\u001b[0mmethod\u001b[0m\u001b[0;34m,\u001b[0m \u001b[0murl\u001b[0m\u001b[0;34m=\u001b[0m\u001b[0murl\u001b[0m\u001b[0;34m,\u001b[0m \u001b[0;34m**\u001b[0m\u001b[0mkwargs\u001b[0m\u001b[0;34m)\u001b[0m\u001b[0;34m\u001b[0m\u001b[0;34m\u001b[0m\u001b[0m\n\u001b[0m\u001b[1;32m     61\u001b[0m \u001b[0;34m\u001b[0m\u001b[0m\n\u001b[1;32m     62\u001b[0m \u001b[0;34m\u001b[0m\u001b[0m\n",
      "\u001b[0;31mTypeError\u001b[0m: request() got an unexpected keyword argument 'timeouts'"
     ]
    }
   ],
   "source": [
    "services_list = [{'name': 'ton.sh',\n",
    "                  'api': 'https://api.ton.sh/getAddressInformation?address=EQCD39VS5jcptHL8vMjEXrzGaRcCVYto7HUn4bpAOg8xqB2N',\n",
    "                  'ip': 'https://ton.sh'},\n",
    "                 {'name': 'toncenter.com',\n",
    "                  'api': 'https://toncenter.com/api/v2/getAddressInformation?address=0QCyt4ltzak71h6XkyK4ePfZCzJQDSVUNuvZ3VE7hP_Q-GTE',\n",
    "                  'ip': 'https://toncenter.com'}]\n",
    "\n",
    "services = []\n",
    "for service in services_list:\n",
    "    name = service['name']\n",
    "    url = service['api']\n",
    "    ip = server['ip']\n",
    "    available = R.get(url, timeout=2).status_code == 200\n",
    "    loc = {'name': name, 'available': available}\n",
    "    services.append(loc)\n",
    "services"
   ]
  },
  {
   "cell_type": "markdown",
   "id": "5824e4d8",
   "metadata": {},
   "source": [
    "# Governance"
   ]
  },
  {
   "cell_type": "code",
   "execution_count": 229,
   "id": "358d3602",
   "metadata": {},
   "outputs": [
    {
     "name": "stdout",
     "output_type": "stream",
     "text": [
      "\u001b[35m\u001b[1m[debug]   \u001b[0m14.11.2021, 22:14:25.374 (UTC)  \u001b[32m\u001b[1m<MainThread>  \u001b[0mstart GetConfig function (17)\n",
      "\u001b[35m\u001b[1m[debug]   \u001b[0m14.11.2021, 22:14:25.388 (UTC)  \u001b[32m\u001b[1m<MainThread>  \u001b[0mstart GetConfig function (15)\n",
      "\u001b[35m\u001b[1m[debug]   \u001b[0m14.11.2021, 22:14:25.401 (UTC)  \u001b[32m\u001b[1m<MainThread>  \u001b[0mstart GetConfig36 function\n",
      "\u001b[35m\u001b[1m[debug]   \u001b[0m14.11.2021, 22:14:25.417 (UTC)  \u001b[32m\u001b[1m<MainThread>  \u001b[0mstart GetFullElectorAddr function\n",
      "\u001b[35m\u001b[1m[debug]   \u001b[0m14.11.2021, 22:14:25.430 (UTC)  \u001b[32m\u001b[1m<MainThread>  \u001b[0mstart GetActiveElectionId function\n"
     ]
    },
    {
     "data": {
      "text/plain": [
       "{'status': 'closed',\n",
       " 'start': datetime.datetime(2021, 11, 14, 14, 0, 39),\n",
       " 'end': datetime.datetime(2021, 11, 14, 20, 50, 15),\n",
       " 'start_next': datetime.datetime(2021, 11, 15, 8, 12, 55)}"
      ]
     },
     "execution_count": 229,
     "metadata": {},
     "output_type": "execute_result"
    }
   ],
   "source": [
    "config17 = ton.GetConfig17()\n",
    "config15 = ton.GetConfig15()\n",
    "config34 = ton.GetConfig34()\n",
    "config36 = ton.GetConfig36()\n",
    "\n",
    "fullElectorAddr = ton.GetFullElectorAddr()\n",
    "\n",
    "\n",
    "# get times\n",
    "startWorkTime = ton.GetActiveElectionId(fullElectorAddr)\n",
    "election_status = \"open\"\n",
    "if startWorkTime == 0:\n",
    "    startWorkTime = config36.get(\"startWorkTime\")\n",
    "    if startWorkTime is None:\n",
    "        startWorkTime = config34.get(\"startWorkTime\")\n",
    "    election_status = \"closed\" \n",
    "\n",
    "electionsStartBefore = config15[\"electionsStartBefore\"]\n",
    "electionsEndBefore = config15[\"electionsEndBefore\"]\n",
    "validatorsElectedFor = config15[\"validatorsElectedFor\"]\n",
    "\n",
    "# compute election times\n",
    "startElection = startWorkTime - electionsStartBefore\n",
    "endElection = startWorkTime - electionsEndBefore\n",
    "startNextElection = startElection + validatorsElectedFor\n",
    "\n",
    "startElection = datetime.fromtimestamp(startElection)\n",
    "endElection = datetime.fromtimestamp(endElection)\n",
    "startNextElection = datetime.fromtimestamp(startNextElection)\n",
    "\n",
    "elections = {\n",
    "    'status': election_status,\n",
    "    'start': startElection,\n",
    "    'end': endElection,\n",
    "    'start_next': startNextElection\n",
    "}\n",
    "elections"
   ]
  },
  {
   "cell_type": "code",
   "execution_count": 228,
   "id": "97c7bb37",
   "metadata": {},
   "outputs": [
    {
     "name": "stdout",
     "output_type": "stream",
     "text": [
      "\u001b[35m\u001b[1m[debug]   \u001b[0m14.11.2021, 22:14:22.412 (UTC)  \u001b[32m\u001b[1m<MainThread>  \u001b[0mstart GetOffersNumber function\n",
      "\u001b[35m\u001b[1m[debug]   \u001b[0m14.11.2021, 22:14:22.413 (UTC)  \u001b[32m\u001b[1m<MainThread>  \u001b[0mstart GetOffers function\n",
      "\u001b[35m\u001b[1m[debug]   \u001b[0m14.11.2021, 22:14:22.413 (UTC)  \u001b[32m\u001b[1m<MainThread>  \u001b[0mstart GetFullConfigAddr function\n",
      "\u001b[35m\u001b[1m[debug]   \u001b[0m14.11.2021, 22:14:22.463 (UTC)  \u001b[32m\u001b[1m<MainThread>  \u001b[0mstart GetConfig34 function\n",
      "\u001b[35m\u001b[1m[debug]   \u001b[0m14.11.2021, 22:14:22.479 (UTC)  \u001b[32m\u001b[1m<MainThread>  \u001b[0mstart GetOffers function\n"
     ]
    },
    {
     "data": {
      "text/plain": [
       "{'all': 0, 'new': 0, 'offers_list': []}"
      ]
     },
     "execution_count": 228,
     "metadata": {},
     "output_type": "execute_result"
    }
   ],
   "source": [
    "offers = ton.GetOffersNumber()\n",
    "offers_list = ton.GetOffers()\n",
    "offers['offers_list'] = offers_list\n",
    "\n",
    "offers"
   ]
  },
  {
   "cell_type": "code",
   "execution_count": 222,
   "id": "007f0a14",
   "metadata": {},
   "outputs": [
    {
     "name": "stdout",
     "output_type": "stream",
     "text": [
      "\u001b[35m\u001b[1m[debug]   \u001b[0m14.11.2021, 22:08:26.077 (UTC)  \u001b[32m\u001b[1m<MainThread>  \u001b[0mstart GetComplaintsNumber function\n",
      "\u001b[35m\u001b[1m[debug]   \u001b[0m14.11.2021, 22:08:26.077 (UTC)  \u001b[32m\u001b[1m<MainThread>  \u001b[0mstart GetComplaints function\n",
      "\u001b[35m\u001b[1m[debug]   \u001b[0m14.11.2021, 22:08:26.077 (UTC)  \u001b[32m\u001b[1m<MainThread>  \u001b[0mstart GetFullElectorAddr function\n",
      "\u001b[35m\u001b[1m[debug]   \u001b[0m14.11.2021, 22:08:26.099 (UTC)  \u001b[32m\u001b[1m<MainThread>  \u001b[0mstart GetConfig32 function\n",
      "\u001b[35m\u001b[1m[debug]   \u001b[0m14.11.2021, 22:08:26.138 (UTC)  \u001b[32m\u001b[1m<MainThread>  \u001b[0mstart GetComplaints function\n"
     ]
    },
    {
     "data": {
      "text/plain": [
       "{'all': 0, 'new': 0, 'complaints_list': {}}"
      ]
     },
     "execution_count": 222,
     "metadata": {},
     "output_type": "execute_result"
    }
   ],
   "source": [
    "complaints = ton.GetComplaintsNumber()\n",
    "complaints_list = ton.GetComplaints()\n",
    "complaints['complaints_list'] = complaints_list\n",
    "\n",
    "complaints"
   ]
  },
  {
   "cell_type": "code",
   "execution_count": 115,
   "id": "0669c83c",
   "metadata": {},
   "outputs": [
    {
     "data": {
      "text/plain": [
       "{'elections': {'status': 'open',\n",
       "  'start': datetime.datetime(2021, 11, 14, 14, 0, 39),\n",
       "  'end': datetime.datetime(2021, 11, 14, 20, 50, 15),\n",
       "  'start_next': datetime.datetime(2021, 11, 15, 8, 12, 55)},\n",
       " 'offers': {'all': 0, 'new': 0, 'offers_list': []},\n",
       " 'complaints': {'all': 0, 'new': 0, 'complaints_list': {}}}"
      ]
     },
     "execution_count": 115,
     "metadata": {},
     "output_type": "execute_result"
    }
   ],
   "source": [
    "governance = {\n",
    "    'elections': elections,\n",
    "    'offers': offers,\n",
    "    'complaints': complaints\n",
    "}\n",
    "governance"
   ]
  },
  {
   "cell_type": "markdown",
   "id": "b4f4d9df",
   "metadata": {},
   "source": [
    "# Bridge check"
   ]
  },
  {
   "cell_type": "code",
   "execution_count": 165,
   "id": "b3bc1d48",
   "metadata": {},
   "outputs": [
    {
     "data": {
      "text/plain": [
       "[{'name': 'ton-eth',\n",
       "  'url': 'https://ton.org/bridge/',\n",
       "  'web_page_status': 'available',\n",
       "  'smart_contract_state': 0},\n",
       " {'name': 'ton-bsc',\n",
       "  'url': 'https://ton.org/bridge/bsc',\n",
       "  'web_page_status': 'available',\n",
       "  'smart_contract_state': 0},\n",
       " {'name': 'ton-other',\n",
       "  'url': 'https://ton.org/bridge/exmo',\n",
       "  'web_page_status': 'not available',\n",
       "  'smart_contract_state': None}]"
      ]
     },
     "execution_count": 165,
     "metadata": {},
     "output_type": "execute_result"
    }
   ],
   "source": [
    "from bs4 import BeautifulSoup\n",
    "\n",
    "\n",
    "bridge_list = [{'name': 'ton-eth','url': 'https://ton.org/bridge/', \n",
    "                'address': 'Ef_dJMSh8riPi3BTUTtcxsWjG8RLKnLctNjAM4rw8NN-xWdr'},\n",
    "               {'name': 'ton-bsc', 'url': 'https://ton.org/bridge/bsc', \n",
    "                'address': 'Ef9NXAIQs12t2qIZ-sRZ26D977H65Ol6DQeXc5_gUNaUys5r'},\n",
    "               {'name': 'ton-other', 'url': 'https://ton.org/bridge/exmo', \n",
    "                'address': ''}]\n",
    "\n",
    "bridges = []\n",
    "for bridge_dict in bridge_list:\n",
    "    resp = R.get(bridge_dict['url'])\n",
    "    \n",
    "    # web page status\n",
    "    web_page_status = 'not available'\n",
    "    if resp.status_code == 200:\n",
    "        page = BeautifulSoup(resp.content, features=\"html.parser\")\n",
    "        button = page.find_all(attrs={'id': ['transferButton']})\n",
    "        if len(button) > 0:\n",
    "            web_page_status = 'available'\n",
    "            \n",
    "    # api status\n",
    "    smart_contract_state = None\n",
    "    if bridge_dict['address']:\n",
    "        cmd = 'runmethod {address} get_bridge_data'.format(**bridge_dict)\n",
    "        resp = ton.liteClient.Run(cmd)\n",
    "        for row in resp.split('\\n'):\n",
    "            if 'result:' in row and '[' in row:\n",
    "                row = row[row.find('[')+1:row.find(']')].strip()\n",
    "                row = row.split()\n",
    "                if len(row) > 0:\n",
    "                    smart_contract_state = int(row[0])\n",
    "    bridges.append({\n",
    "        'name': bridge_dict['name'],\n",
    "        'url': bridge_dict['url'],\n",
    "        'web_page_status': web_page_status,\n",
    "        'smart_contract_state': smart_contract_state\n",
    "    })\n",
    "bridges"
   ]
  },
  {
   "cell_type": "raw",
   "id": "7fe00546",
   "metadata": {},
   "source": [
    "headers = {'Cache-Control': 'no-store, max-age=0'}\n",
    "resp = R.get('https://ton.org/bridge/WTON.json', headers=headers)\n",
    "resp.content"
   ]
  },
  {
   "cell_type": "markdown",
   "id": "ce3c5eef",
   "metadata": {},
   "source": [
    "# Backup"
   ]
  },
  {
   "cell_type": "raw",
   "id": "bfbf8f21",
   "metadata": {},
   "source": [
    "compliants = {'5886D080A7E674185049A64731C18AC206EC9805B0A4AA04978C372E7362E9FC1636931207': {'electionId': 1636931207, 'hash': 88903245105450268155828300227938303043764880885251014972808249943758051051572, 'pubkey': '5886D080A7E674185049A64731C18AC206EC9805B0A4AA04978C372E7362E9FC', 'adnl': 'CE24CAA1E86E1DA7914E0755D3E0D6B6BCB3A0228BBE73EAFD6C481ADA2020BF', 'description': 'C{1311944D9EBD5A90B0A529ACD07B95C727E7F62F19D1BB50A8D78384F2008DAF}', 'createdTime': 1636997292, 'severity': 2, 'rewardAddr': 'Ef9X6ObXojpUZza3NiS2TnRJ4KR7ler8cOjMRBt_swy4Qp2j', 'paid': 73042518866, 'suggestedFine': 101.0, 'suggestedFinePart': 0, 'votedValidators': [0, 1, 2, 3, 4, 5, 6, 7, 8, 9, 10, 11, 12, 13, 14, 15, 16, 17, 18, 19, 20, 21, 22, 23, 24, 25, 26, 27, 28, 29, 30, 31, 32, 33, 34, 35, 36, 37, 38, 39, 40, 41, 42, 43, 44, 45, 46, 47, 48, 49, 51, 52, 56, 57, 58, 59, 60, 61, 62, 63, 64, 65, 66, 67, 68, 69, 70, 71, 72, 76, 77, 78, 79, 80, 81, 82, 83, 84, 85, 86, 87, 88, 89, 90, 91, 92, 93, 94, 95, 96, 97, 98, 99, 100, 101, 102, 103, 104, 105, 106, 107, 108, 109, 110, 111, 112, 113, 114, 115, 118, 119, 120, 121, 122, 123, 124, 125, 126, 127, 128, 129, 130, 131, 132, 133, 134, 135, 136, 137, 138, 139, 140, 141, 142, 143, 144, 145], 'vsetId': 64678447710026207407772909170541134184282031556077784503273728435917568495010, 'weightRemaining': -306574679488018302, 'approvedPercent': 93.258, 'isPassed': True, 'pseudohash': '5886D080A7E674185049A64731C18AC206EC9805B0A4AA04978C372E7362E9FC1636931207'}, '968F4A6377F00F5FEEB618245741413EE4338D600CBC898A4D1BC460983E21D41636931207': {'electionId': 1636931207, 'hash': 64444557146890258920289842626623123286106217351764173254597531087899554543592, 'pubkey': '968F4A6377F00F5FEEB618245741413EE4338D600CBC898A4D1BC460983E21D4', 'adnl': '024F431A8A9C684D3D4051D12602434349B7FD92E06A76CA85ACAC098D9C4078', 'description': 'C{B9F9F210741EFA65523283F76273C2C2D0FB3B00A70259743E9F5128B3925E59}', 'createdTime': 1636997306, 'severity': 2, 'rewardAddr': 'Ef_COrB2c9Sm41aVhq54CotaTZJ55_3iDApuMkrBmGRiJ3RF', 'paid': 72760748424, 'suggestedFine': 101.0, 'suggestedFinePart': 0, 'votedValidators': [0, 1, 2, 3, 4, 5, 6, 7, 8, 9, 10, 11, 12, 13, 14, 15, 16, 17, 18, 19, 20, 21, 22, 23, 24, 25, 26, 27, 28, 29, 30, 31, 32, 33, 34, 35, 36, 37, 38, 39, 40, 41, 42, 43, 44, 45, 46, 47, 48, 49, 51, 52, 56, 57, 58, 59, 60, 61, 62, 63, 64, 65, 66, 67, 68, 69, 70, 71, 72, 76, 77, 78, 80, 81, 82, 83, 84, 85, 86, 87, 88, 89, 90, 91, 92, 93, 94, 95, 96, 97, 98, 99, 100, 101, 102, 103, 104, 105, 106, 107, 108, 109, 110, 111, 112, 113, 114, 115, 118, 119, 120, 121, 122, 123, 124, 125, 126, 127, 128, 129, 130, 131, 132, 133, 134, 135, 136, 137, 138, 139, 140, 141, 142, 143, 144, 145], 'vsetId': 64678447710026207407772909170541134184282031556077784503273728435917568495010, 'weightRemaining': -298690205470328106, 'approvedPercent': 92.574, 'isPassed': True, 'pseudohash': '968F4A6377F00F5FEEB618245741413EE4338D600CBC898A4D1BC460983E21D41636931207'}}\n",
    "print(compliants)"
   ]
  },
  {
   "cell_type": "markdown",
   "id": "6b4f9a96",
   "metadata": {},
   "source": [
    "# OLD"
   ]
  },
  {
   "cell_type": "code",
   "execution_count": null,
   "id": "630bc682",
   "metadata": {},
   "outputs": [],
   "source": [
    "lite = M.LiteClient()"
   ]
  },
  {
   "cell_type": "code",
   "execution_count": null,
   "id": "730e999a",
   "metadata": {},
   "outputs": [],
   "source": [
    "ton.GetConfig12()"
   ]
  },
  {
   "cell_type": "code",
   "execution_count": null,
   "id": "9754054e",
   "metadata": {},
   "outputs": [],
   "source": [
    "ton.GetConfig15()"
   ]
  },
  {
   "cell_type": "raw",
   "id": "12a117c8",
   "metadata": {
    "scrolled": false
   },
   "source": [
    "config = {}\n",
    "for i in range(40):\n",
    "    config[i] = ton.GetConfig(i)\n",
    "config"
   ]
  },
  {
   "cell_type": "code",
   "execution_count": null,
   "id": "8f83adc7",
   "metadata": {},
   "outputs": [],
   "source": [
    "config36 = ton.GetConfig36()\n",
    "config36"
   ]
  },
  {
   "cell_type": "code",
   "execution_count": null,
   "id": "5d0fe08e",
   "metadata": {},
   "outputs": [],
   "source": [
    "shardsNumber = ton.GetShardsNumber()\n",
    "print('shards_number:', shardsNumber)"
   ]
  },
  {
   "cell_type": "code",
   "execution_count": null,
   "id": "b825691f",
   "metadata": {},
   "outputs": [],
   "source": []
  },
  {
   "cell_type": "code",
   "execution_count": null,
   "id": "30dc956c",
   "metadata": {},
   "outputs": [],
   "source": [
    "online_validators = ton.GetOnlineValidators()\n",
    "validator_efficiency = ton.GetValidatorEfficiency()"
   ]
  },
  {
   "cell_type": "raw",
   "id": "a898efe1",
   "metadata": {},
   "source": [
    "validator_status = ton.GetValidatorStatus()\n",
    "validator_status"
   ]
  },
  {
   "cell_type": "code",
   "execution_count": null,
   "id": "5877612d",
   "metadata": {},
   "outputs": [],
   "source": [
    "config15 = ton.GetConfig15()\n",
    "config17 = ton.GetConfig17()"
   ]
  },
  {
   "cell_type": "code",
   "execution_count": null,
   "id": "bf5ee92f",
   "metadata": {},
   "outputs": [],
   "source": [
    "statistics = ton.GetSettings(\"statistics\")\n",
    "statistics"
   ]
  },
  {
   "cell_type": "code",
   "execution_count": null,
   "id": "dfbc8040",
   "metadata": {},
   "outputs": [],
   "source": [
    "rootWorkchainEnabledTime_int = ton.GetRootWorkchainEnabledTime()\n",
    "rootWorkchainEnabledTime_int"
   ]
  },
  {
   "cell_type": "code",
   "execution_count": null,
   "id": "ed88feb4",
   "metadata": {
    "scrolled": false
   },
   "outputs": [],
   "source": [
    "validators_info = ton.GetValidatorsLoad()\n",
    "validators_info[0]"
   ]
  },
  {
   "cell_type": "code",
   "execution_count": null,
   "id": "cf23ceea",
   "metadata": {},
   "outputs": [],
   "source": [
    "compliants_info = ton.GetComplaints()\n",
    "compliants_info"
   ]
  },
  {
   "cell_type": "code",
   "execution_count": null,
   "id": "34bac273",
   "metadata": {},
   "outputs": [],
   "source": [
    "ton.GetAdnlAddr()"
   ]
  },
  {
   "cell_type": "code",
   "execution_count": null,
   "id": "8cd36113",
   "metadata": {},
   "outputs": [],
   "source": [
    "statistics = ton.GetSettings(\"statistics\")\n",
    "tpsAvg = ton.GetStatistics(\"tpsAvg\", statistics)\n",
    "netLoadAvg = ton.GetStatistics(\"netLoadAvg\", statistics)\n",
    "disksLoadAvg = ton.GetStatistics(\"disksLoadAvg\", statistics)\n",
    "disksLoadPercentAvg = ton.GetStatistics(\"disksLoadPercentAvg\", statistics)\n",
    "\n",
    "statistics"
   ]
  },
  {
   "cell_type": "code",
   "execution_count": null,
   "id": "4e34273f",
   "metadata": {},
   "outputs": [],
   "source": [
    "def PrintStatus(args):\n",
    "    opt = None\n",
    "    if len(args) == 1:\n",
    "        opt = args[0]\n",
    "    rootWorkchainEnabledTime_int = ton.GetRootWorkchainEnabledTime()\n",
    "    config34 = ton.GetConfig34()\n",
    "    config36 = ton.GetConfig36()\n",
    "    totalValidators = config34[\"totalValidators\"]\n",
    "    onlineValidators = None\n",
    "    validatorEfficiency = None\n",
    "    if opt != \"fast\":\n",
    "        onlineValidators = ton.GetOnlineValidators()\n",
    "        validatorEfficiency = ton.GetValidatorEfficiency()\n",
    "    if onlineValidators:\n",
    "        onlineValidators = len(onlineValidators)\n",
    "    oldStartWorkTime = config36.get(\"startWorkTime\")\n",
    "    if oldStartWorkTime is None:\n",
    "        oldStartWorkTime = config34.get(\"startWorkTime\")\n",
    "    shardsNumber = ton.GetShardsNumber()\n",
    "    validatorStatus = ton.GetValidatorStatus()\n",
    "    config15 = ton.GetConfig15()\n",
    "    config17 = ton.GetConfig17()\n",
    "    fullConfigAddr = ton.GetFullConfigAddr()\n",
    "    fullElectorAddr = ton.GetFullElectorAddr()\n",
    "    startWorkTime = ton.GetActiveElectionId(fullElectorAddr)\n",
    "    validatorIndex = ton.GetValidatorIndex()\n",
    "    validatorWallet = ton.GetLocalWallet(ton.validatorWalletName)\n",
    "    dbSize = ton.GetDbSize()\n",
    "    offersNumber = ton.GetOffersNumber()\n",
    "    complaintsNumber = ton.GetComplaintsNumber()\n",
    "    statistics = ton.GetSettings(\"statistics\")\n",
    "    tpsAvg = ton.GetStatistics(\"tpsAvg\", statistics)\n",
    "    netLoadAvg = ton.GetStatistics(\"netLoadAvg\", statistics)\n",
    "    disksLoadAvg = ton.GetStatistics(\"disksLoadAvg\", statistics)\n",
    "    disksLoadPercentAvg = ton.GetStatistics(\"disksLoadPercentAvg\", statistics)\n",
    "    if validatorWallet is not None:\n",
    "        validatorAccount = ton.GetAccount(validatorWallet.addr)\n",
    "    else:\n",
    "        validatorAccount = None\n",
    "    PrintTonStatus(startWorkTime, totalValidators, onlineValidators, shardsNumber, offersNumber, complaintsNumber, tpsAvg)\n",
    "    PrintLocalStatus(validatorIndex, validatorEfficiency, validatorWallet, validatorAccount, validatorStatus, dbSize, netLoadAvg, disksLoadAvg, disksLoadPercentAvg)\n",
    "    PrintTonConfig(fullConfigAddr, fullElectorAddr, config15, config17)\n",
    "    PrintTimes(rootWorkchainEnabledTime_int, startWorkTime, oldStartWorkTime, config15)"
   ]
  }
 ],
 "metadata": {
  "kernelspec": {
   "display_name": "Python 3 (ipykernel)",
   "language": "python",
   "name": "python3"
  },
  "language_info": {
   "codemirror_mode": {
    "name": "ipython",
    "version": 3
   },
   "file_extension": ".py",
   "mimetype": "text/x-python",
   "name": "python",
   "nbconvert_exporter": "python",
   "pygments_lexer": "ipython3",
   "version": "3.8.10"
  }
 },
 "nbformat": 4,
 "nbformat_minor": 5
}
